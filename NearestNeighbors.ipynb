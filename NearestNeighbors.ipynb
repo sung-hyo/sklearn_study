{
 "cells": [
  {
   "cell_type": "markdown",
   "metadata": {},
   "source": [
    "# Scikit-Learn Algorithms"
   ]
  },
  {
   "cell_type": "markdown",
   "metadata": {},
   "source": [
    "### 1.6 Nearest Neighbors (최근접 이웃)\n",
    "\n",
    "\n",
    "sklearn.neighbors는 지도와 비지도 이웃에 기초한 학습방법을 제공한다. \n",
    "비지도 최근접 이웃은 다양한 학습과 spectral clustering의 기초가 된다. \n",
    "지도 이웃 기반 학습은 두가지가 있다. 이산레이블을 포함한 자료에 대한 분류와 연속레이블 포함한 자료에 대한 회귀분석이다. \n",
    "\n",
    "최근접이웃방법의 원칙은 새로운 점과 가장 가까운 거리에 있는 사전 정의된 수의 훈련 샘플을 찾아 이것으로 부터 레이블을 예측하는 것이다. 샘플의 수는 사용자 정의상수(k-최근접이웃학습)이거나 점의 local density에 따라 달라질수 있다. 거리는 일반적으로 미터법으로 측정할 수 있다. 표준 유클리드 거리가 가장 일반적이다. 이웃기반방법은 모든 훈련자료를 기억하기 때문에 비일반화 기계학습방법으로 알려져 있다. \n",
    "\n",
    "이러한 단순함에도 불구하고, 최근접이웃은 손으로 쓴 숫자와 위성 이미지 장면을 포함한 많은 수의 분류와 회귀 문제에서 성공했다. 비모수적 방법이기 때문에 의사결정 경계가 매우 불규칙한 분류 상황에서 종종 성공한다.\n",
    "\n",
    "sklearn.nears의 클래스는 NumPy 배열이나 spipy.sparse 행렬을 입력으로 처리할 수 있습니다. 밀도 행렬의 경우 가능한 거리 행렬 수가 많이 지원됩니다. 희박행렬(sparse matrices)의 경우 검색을 위해 임의 Minkowski 행렬이 지원된다."
   ]
  },
  {
   "cell_type": "markdown",
   "metadata": {},
   "source": [
    "### 1.6.1. Unsupervised Nearest Neighbors(비지도 최근점 이웃)\n",
    "\n",
    "이 알고리즘은 인접한 세 가지 알고리즘인 BallTree, KDTree 및 Sklearn.metrics.pairwise의 루틴을 기반으로 하는 Brute-force 알고리즘에 대한 균일한 인터페이스 역할을 한다."
   ]
  },
  {
   "cell_type": "code",
   "execution_count": 1,
   "metadata": {},
   "outputs": [
    {
     "data": {
      "text/plain": [
       "array([[0, 1],\n",
       "       [1, 0],\n",
       "       [2, 1],\n",
       "       [3, 4],\n",
       "       [4, 3],\n",
       "       [5, 4]], dtype=int64)"
      ]
     },
     "execution_count": 1,
     "metadata": {},
     "output_type": "execute_result"
    }
   ],
   "source": [
    "#Finding the Nearest Neighbors\n",
    "from sklearn.neighbors import NearestNeighbors\n",
    "import numpy as np\n",
    "X = np.array([[-1, -1], [-2, -1], [-3, -2], [1, 1], [2, 1], [3, 2]])\n",
    "nbrs = NearestNeighbors(n_neighbors=2, algorithm='ball_tree').fit(X)\n",
    "distances, indices = nbrs.kneighbors(X)\n",
    "indices"
   ]
  },
  {
   "cell_type": "code",
   "execution_count": 2,
   "metadata": {},
   "outputs": [
    {
     "data": {
      "text/plain": [
       "array([[ 0.        ,  1.        ],\n",
       "       [ 0.        ,  1.        ],\n",
       "       [ 0.        ,  1.41421356],\n",
       "       [ 0.        ,  1.        ],\n",
       "       [ 0.        ,  1.        ],\n",
       "       [ 0.        ,  1.41421356]])"
      ]
     },
     "execution_count": 2,
     "metadata": {},
     "output_type": "execute_result"
    }
   ],
   "source": [
    "distances"
   ]
  },
  {
   "cell_type": "code",
   "execution_count": 3,
   "metadata": {},
   "outputs": [
    {
     "data": {
      "text/plain": [
       "array([[ 1.,  1.,  0.,  0.,  0.,  0.],\n",
       "       [ 1.,  1.,  0.,  0.,  0.,  0.],\n",
       "       [ 0.,  1.,  1.,  0.,  0.,  0.],\n",
       "       [ 0.,  0.,  0.,  1.,  1.,  0.],\n",
       "       [ 0.,  0.,  0.,  1.,  1.,  0.],\n",
       "       [ 0.,  0.,  0.,  0.,  1.,  1.]])"
      ]
     },
     "execution_count": 3,
     "metadata": {},
     "output_type": "execute_result"
    }
   ],
   "source": [
    "nbrs.kneighbors_graph(X).toarray()"
   ]
  },
  {
   "cell_type": "code",
   "execution_count": null,
   "metadata": {
    "collapsed": true
   },
   "outputs": [],
   "source": []
  }
 ],
 "metadata": {
  "kernelspec": {
   "display_name": "Python 3",
   "language": "python",
   "name": "python3"
  },
  "language_info": {
   "codemirror_mode": {
    "name": "ipython",
    "version": 3
   },
   "file_extension": ".py",
   "mimetype": "text/x-python",
   "name": "python",
   "nbconvert_exporter": "python",
   "pygments_lexer": "ipython3",
   "version": "3.6.3"
  }
 },
 "nbformat": 4,
 "nbformat_minor": 2
}
