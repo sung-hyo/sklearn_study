{
 "cells": [
  {
   "cell_type": "markdown",
   "metadata": {},
   "source": [
    "## Objective of the notebook\n",
    "\n",
    " Heart Disease 자료를 탐색하고, 심장질환을 분류하기 위해 sklearn의 모든 분류모형 테스트하고 그 과정을 알아보고자 한다.\n",
    " \n"
   ]
  },
  {
   "cell_type": "markdown",
   "metadata": {},
   "source": [
    "## About the dataset: Heart Disease\n",
    "\n",
    " 심장질환 자료는 총 76개의 속성으로 이루어져 있으나, 공개된 모든실험에서 사용한 14개 속성으로 이루어진 자료를 이용하고자 한다. 최근까지 연구된 Cleveland database(n=303)를 이용하였으며, 총 303명의 환자자료 중 164명이 심장질환이었다.\n",
    " \n",
    " 14개 자료 필드는 아래의 표와 같다.\n",
    " \n",
    " 변수명 | 설명 | 척도\n",
    " ---|---|---\n",
    "age| 환자 나이 | 구간-비율\n",
    "sex| 환자성별 (1 = male; 0 = female) | 명목\n",
    "cp| 흉통유형 (1=정형 협심증 통증, 2=비정형 협심증 통증, 3=비협심증 통증(협심증 관련통증 아님), 4=무증상) | 명목\n",
    "trestbps | 휴식시 혈압(병원 입원시, mm Hg) | 비율\n",
    "chol| 총콜레스테롤, mg/dl | 비율\n",
    "fbs| 공복시 혈당, > 120 mg/dl) (1 = true; 0 = false) | 명목\n",
    "restecg| 심전도 결과 | 명목\n",
    "thalach| 최대 심박수 | 비율\n",
    "exang| 운동형 협심증 여부(1 = yes; 0 = no) | 명목\n",
    "oldpeak| ST depression induced by exercise relative to rest | 비율\n",
    "slope| ST segment의 경사 (1=upsloping, 2=flat, 3=downsloping) | 명목\n",
    "ca| 채색된 주요 혈관수 (0-3) | 구간\n",
    "thal| 결손된 혈관 3 = normal; 6 = fixed defect; 7 = reversable defect | 명목\n",
    "target| 심장질환 여부 1 or 0(target) | 명목"
   ]
  },
  {
   "cell_type": "code",
   "execution_count": 1,
   "metadata": {
    "collapsed": true
   },
   "outputs": [],
   "source": [
    "#자료 불러오기 \n",
    "import matplotlib.pyplot as plt\n",
    "import numpy as np\n",
    "import seaborn as sns\n",
    "import pandas as pd\n",
    "heartData = pd.read_csv('heart.csv')"
   ]
  },
  {
   "cell_type": "code",
   "execution_count": 2,
   "metadata": {
    "collapsed": false
   },
   "outputs": [
    {
     "data": {
      "text/html": [
       "<div>\n",
       "<table border=\"1\" class=\"dataframe\">\n",
       "  <thead>\n",
       "    <tr style=\"text-align: right;\">\n",
       "      <th></th>\n",
       "      <th>age</th>\n",
       "      <th>sex</th>\n",
       "      <th>cp</th>\n",
       "      <th>trestbps</th>\n",
       "      <th>chol</th>\n",
       "      <th>fbs</th>\n",
       "      <th>restecg</th>\n",
       "      <th>thalach</th>\n",
       "      <th>exang</th>\n",
       "      <th>oldpeak</th>\n",
       "      <th>slope</th>\n",
       "      <th>ca</th>\n",
       "      <th>thal</th>\n",
       "      <th>target</th>\n",
       "    </tr>\n",
       "  </thead>\n",
       "  <tbody>\n",
       "    <tr>\n",
       "      <th>0</th>\n",
       "      <td>63</td>\n",
       "      <td>1</td>\n",
       "      <td>3</td>\n",
       "      <td>145</td>\n",
       "      <td>233</td>\n",
       "      <td>1</td>\n",
       "      <td>0</td>\n",
       "      <td>150</td>\n",
       "      <td>0</td>\n",
       "      <td>2.3</td>\n",
       "      <td>0</td>\n",
       "      <td>0</td>\n",
       "      <td>1</td>\n",
       "      <td>1</td>\n",
       "    </tr>\n",
       "    <tr>\n",
       "      <th>1</th>\n",
       "      <td>37</td>\n",
       "      <td>1</td>\n",
       "      <td>2</td>\n",
       "      <td>130</td>\n",
       "      <td>250</td>\n",
       "      <td>0</td>\n",
       "      <td>1</td>\n",
       "      <td>187</td>\n",
       "      <td>0</td>\n",
       "      <td>3.5</td>\n",
       "      <td>0</td>\n",
       "      <td>0</td>\n",
       "      <td>2</td>\n",
       "      <td>1</td>\n",
       "    </tr>\n",
       "    <tr>\n",
       "      <th>2</th>\n",
       "      <td>41</td>\n",
       "      <td>0</td>\n",
       "      <td>1</td>\n",
       "      <td>130</td>\n",
       "      <td>204</td>\n",
       "      <td>0</td>\n",
       "      <td>0</td>\n",
       "      <td>172</td>\n",
       "      <td>0</td>\n",
       "      <td>1.4</td>\n",
       "      <td>2</td>\n",
       "      <td>0</td>\n",
       "      <td>2</td>\n",
       "      <td>1</td>\n",
       "    </tr>\n",
       "    <tr>\n",
       "      <th>3</th>\n",
       "      <td>56</td>\n",
       "      <td>1</td>\n",
       "      <td>1</td>\n",
       "      <td>120</td>\n",
       "      <td>236</td>\n",
       "      <td>0</td>\n",
       "      <td>1</td>\n",
       "      <td>178</td>\n",
       "      <td>0</td>\n",
       "      <td>0.8</td>\n",
       "      <td>2</td>\n",
       "      <td>0</td>\n",
       "      <td>2</td>\n",
       "      <td>1</td>\n",
       "    </tr>\n",
       "    <tr>\n",
       "      <th>4</th>\n",
       "      <td>57</td>\n",
       "      <td>0</td>\n",
       "      <td>0</td>\n",
       "      <td>120</td>\n",
       "      <td>354</td>\n",
       "      <td>0</td>\n",
       "      <td>1</td>\n",
       "      <td>163</td>\n",
       "      <td>1</td>\n",
       "      <td>0.6</td>\n",
       "      <td>2</td>\n",
       "      <td>0</td>\n",
       "      <td>2</td>\n",
       "      <td>1</td>\n",
       "    </tr>\n",
       "    <tr>\n",
       "      <th>5</th>\n",
       "      <td>57</td>\n",
       "      <td>1</td>\n",
       "      <td>0</td>\n",
       "      <td>140</td>\n",
       "      <td>192</td>\n",
       "      <td>0</td>\n",
       "      <td>1</td>\n",
       "      <td>148</td>\n",
       "      <td>0</td>\n",
       "      <td>0.4</td>\n",
       "      <td>1</td>\n",
       "      <td>0</td>\n",
       "      <td>1</td>\n",
       "      <td>1</td>\n",
       "    </tr>\n",
       "    <tr>\n",
       "      <th>6</th>\n",
       "      <td>56</td>\n",
       "      <td>0</td>\n",
       "      <td>1</td>\n",
       "      <td>140</td>\n",
       "      <td>294</td>\n",
       "      <td>0</td>\n",
       "      <td>0</td>\n",
       "      <td>153</td>\n",
       "      <td>0</td>\n",
       "      <td>1.3</td>\n",
       "      <td>1</td>\n",
       "      <td>0</td>\n",
       "      <td>2</td>\n",
       "      <td>1</td>\n",
       "    </tr>\n",
       "    <tr>\n",
       "      <th>7</th>\n",
       "      <td>44</td>\n",
       "      <td>1</td>\n",
       "      <td>1</td>\n",
       "      <td>120</td>\n",
       "      <td>263</td>\n",
       "      <td>0</td>\n",
       "      <td>1</td>\n",
       "      <td>173</td>\n",
       "      <td>0</td>\n",
       "      <td>0.0</td>\n",
       "      <td>2</td>\n",
       "      <td>0</td>\n",
       "      <td>3</td>\n",
       "      <td>1</td>\n",
       "    </tr>\n",
       "    <tr>\n",
       "      <th>8</th>\n",
       "      <td>52</td>\n",
       "      <td>1</td>\n",
       "      <td>2</td>\n",
       "      <td>172</td>\n",
       "      <td>199</td>\n",
       "      <td>1</td>\n",
       "      <td>1</td>\n",
       "      <td>162</td>\n",
       "      <td>0</td>\n",
       "      <td>0.5</td>\n",
       "      <td>2</td>\n",
       "      <td>0</td>\n",
       "      <td>3</td>\n",
       "      <td>1</td>\n",
       "    </tr>\n",
       "    <tr>\n",
       "      <th>9</th>\n",
       "      <td>57</td>\n",
       "      <td>1</td>\n",
       "      <td>2</td>\n",
       "      <td>150</td>\n",
       "      <td>168</td>\n",
       "      <td>0</td>\n",
       "      <td>1</td>\n",
       "      <td>174</td>\n",
       "      <td>0</td>\n",
       "      <td>1.6</td>\n",
       "      <td>2</td>\n",
       "      <td>0</td>\n",
       "      <td>2</td>\n",
       "      <td>1</td>\n",
       "    </tr>\n",
       "  </tbody>\n",
       "</table>\n",
       "</div>"
      ],
      "text/plain": [
       "   age  sex  cp  trestbps  chol  fbs  restecg  thalach  exang  oldpeak  slope  \\\n",
       "0   63    1   3       145   233    1        0      150      0      2.3      0   \n",
       "1   37    1   2       130   250    0        1      187      0      3.5      0   \n",
       "2   41    0   1       130   204    0        0      172      0      1.4      2   \n",
       "3   56    1   1       120   236    0        1      178      0      0.8      2   \n",
       "4   57    0   0       120   354    0        1      163      1      0.6      2   \n",
       "5   57    1   0       140   192    0        1      148      0      0.4      1   \n",
       "6   56    0   1       140   294    0        0      153      0      1.3      1   \n",
       "7   44    1   1       120   263    0        1      173      0      0.0      2   \n",
       "8   52    1   2       172   199    1        1      162      0      0.5      2   \n",
       "9   57    1   2       150   168    0        1      174      0      1.6      2   \n",
       "\n",
       "   ca  thal  target  \n",
       "0   0     1       1  \n",
       "1   0     2       1  \n",
       "2   0     2       1  \n",
       "3   0     2       1  \n",
       "4   0     2       1  \n",
       "5   0     1       1  \n",
       "6   0     2       1  \n",
       "7   0     3       1  \n",
       "8   0     3       1  \n",
       "9   0     2       1  "
      ]
     },
     "execution_count": 2,
     "metadata": {},
     "output_type": "execute_result"
    }
   ],
   "source": [
    "heartData.head(10)"
   ]
  },
  {
   "cell_type": "code",
   "execution_count": 3,
   "metadata": {
    "collapsed": false
   },
   "outputs": [
    {
     "name": "stdout",
     "output_type": "stream",
     "text": [
      "<class 'pandas.core.frame.DataFrame'>\n",
      "RangeIndex: 303 entries, 0 to 302\n",
      "Data columns (total 14 columns):\n",
      "age         303 non-null int64\n",
      "sex         303 non-null int64\n",
      "cp          303 non-null int64\n",
      "trestbps    303 non-null int64\n",
      "chol        303 non-null int64\n",
      "fbs         303 non-null int64\n",
      "restecg     303 non-null int64\n",
      "thalach     303 non-null int64\n",
      "exang       303 non-null int64\n",
      "oldpeak     303 non-null float64\n",
      "slope       303 non-null int64\n",
      "ca          303 non-null int64\n",
      "thal        303 non-null int64\n",
      "target      303 non-null int64\n",
      "dtypes: float64(1), int64(13)\n",
      "memory usage: 33.2 KB\n"
     ]
    }
   ],
   "source": [
    "heartData.info()"
   ]
  },
  {
   "cell_type": "code",
   "execution_count": 4,
   "metadata": {
    "collapsed": false,
    "scrolled": true
   },
   "outputs": [
    {
     "data": {
      "text/plain": [
       "age         0\n",
       "sex         0\n",
       "cp          0\n",
       "trestbps    0\n",
       "chol        0\n",
       "fbs         0\n",
       "restecg     0\n",
       "thalach     0\n",
       "exang       0\n",
       "oldpeak     0\n",
       "slope       0\n",
       "ca          0\n",
       "thal        0\n",
       "target      0\n",
       "dtype: int64"
      ]
     },
     "execution_count": 4,
     "metadata": {},
     "output_type": "execute_result"
    }
   ],
   "source": [
    "#자료의 결측치 갯수 확인\n",
    "heartData.isnull().sum()"
   ]
  },
  {
   "cell_type": "code",
   "execution_count": 5,
   "metadata": {
    "collapsed": true
   },
   "outputs": [],
   "source": [
    "# 카테고리와 연속 feature name\n",
    "cat_feature_list = ['sex','cp','restecg','exang','slope','thal']\n",
    "num_feature_list = ['age','trestbps','chol','fbs','thalach','ca','oldpeak']"
   ]
  },
  {
   "cell_type": "code",
   "execution_count": 6,
   "metadata": {
    "collapsed": true
   },
   "outputs": [],
   "source": [
    "#카테고리 변수 속성변경\n",
    "for i in cat_feature_list:\n",
    "    heartData[i]=pd.Categorical(heartData[i])"
   ]
  },
  {
   "cell_type": "markdown",
   "metadata": {},
   "source": [
    "## 자료 탐색"
   ]
  },
  {
   "cell_type": "code",
   "execution_count": 7,
   "metadata": {
    "collapsed": false,
    "scrolled": false
   },
   "outputs": [
    {
     "name": "stdout",
     "output_type": "stream",
     "text": [
      "1    68.316832\n",
      "0    31.683168\n",
      "Name: sex, dtype: float64\n",
      "0    47.194719\n",
      "2    28.712871\n",
      "1    16.501650\n",
      "3     7.590759\n",
      "Name: cp, dtype: float64\n",
      "1    50.165017\n",
      "0    48.514851\n",
      "2     1.320132\n",
      "Name: restecg, dtype: float64\n",
      "0    67.326733\n",
      "1    32.673267\n",
      "Name: exang, dtype: float64\n",
      "2    46.864686\n",
      "1    46.204620\n",
      "0     6.930693\n",
      "Name: slope, dtype: float64\n",
      "2    54.785479\n",
      "3    38.613861\n",
      "1     5.940594\n",
      "0     0.660066\n",
      "Name: thal, dtype: float64\n"
     ]
    }
   ],
   "source": [
    "# 시각화 하여 확인한다.\n",
    "import matplotlib.pyplot as plt\n",
    "\n",
    "fig,  axs = plt.subplots(nrows=6, figsize=(20,30))\n",
    "n = 0\n",
    "for i in cat_feature_list:\n",
    "    cnt_dt = pd.DataFrame(heartData[i].value_counts(normalize=True))\n",
    "    cnt_dt.plot.bar(rot=0, ax=axs[n])\n",
    "    plt.xticks(rotation=45)\n",
    "    print(heartData[i].value_counts()/heartData[i].count()*100)\n",
    "    n += 1"
   ]
  },
  {
   "cell_type": "code",
   "execution_count": 8,
   "metadata": {
    "collapsed": false
   },
   "outputs": [],
   "source": [
    "# 시각화 하여 확인한다.\n",
    "import seaborn as sns\n",
    "fig,  axs = plt.subplots(ncols=7,figsize=(30,10))\n",
    "n = 0\n",
    "for i in num_feature_list:\n",
    "    sns.boxplot(y=heartData[i], ax=axs[n])\n",
    "    n += 1"
   ]
  },
  {
   "cell_type": "code",
   "execution_count": 9,
   "metadata": {
    "collapsed": false,
    "scrolled": true
   },
   "outputs": [
    {
     "data": {
      "text/html": [
       "<div>\n",
       "<table border=\"1\" class=\"dataframe\">\n",
       "  <thead>\n",
       "    <tr style=\"text-align: right;\">\n",
       "      <th></th>\n",
       "      <th>age</th>\n",
       "      <th>trestbps</th>\n",
       "      <th>chol</th>\n",
       "      <th>fbs</th>\n",
       "      <th>thalach</th>\n",
       "      <th>ca</th>\n",
       "      <th>oldpeak</th>\n",
       "    </tr>\n",
       "  </thead>\n",
       "  <tbody>\n",
       "    <tr>\n",
       "      <th>count</th>\n",
       "      <td>303.000000</td>\n",
       "      <td>303.000000</td>\n",
       "      <td>303.000000</td>\n",
       "      <td>303.000000</td>\n",
       "      <td>303.000000</td>\n",
       "      <td>303.000000</td>\n",
       "      <td>303.000000</td>\n",
       "    </tr>\n",
       "    <tr>\n",
       "      <th>mean</th>\n",
       "      <td>54.366337</td>\n",
       "      <td>131.623762</td>\n",
       "      <td>246.264026</td>\n",
       "      <td>0.148515</td>\n",
       "      <td>149.646865</td>\n",
       "      <td>0.729373</td>\n",
       "      <td>1.039604</td>\n",
       "    </tr>\n",
       "    <tr>\n",
       "      <th>std</th>\n",
       "      <td>9.082101</td>\n",
       "      <td>17.538143</td>\n",
       "      <td>51.830751</td>\n",
       "      <td>0.356198</td>\n",
       "      <td>22.905161</td>\n",
       "      <td>1.022606</td>\n",
       "      <td>1.161075</td>\n",
       "    </tr>\n",
       "    <tr>\n",
       "      <th>min</th>\n",
       "      <td>29.000000</td>\n",
       "      <td>94.000000</td>\n",
       "      <td>126.000000</td>\n",
       "      <td>0.000000</td>\n",
       "      <td>71.000000</td>\n",
       "      <td>0.000000</td>\n",
       "      <td>0.000000</td>\n",
       "    </tr>\n",
       "    <tr>\n",
       "      <th>25%</th>\n",
       "      <td>47.500000</td>\n",
       "      <td>120.000000</td>\n",
       "      <td>211.000000</td>\n",
       "      <td>0.000000</td>\n",
       "      <td>133.500000</td>\n",
       "      <td>0.000000</td>\n",
       "      <td>0.000000</td>\n",
       "    </tr>\n",
       "    <tr>\n",
       "      <th>50%</th>\n",
       "      <td>55.000000</td>\n",
       "      <td>130.000000</td>\n",
       "      <td>240.000000</td>\n",
       "      <td>0.000000</td>\n",
       "      <td>153.000000</td>\n",
       "      <td>0.000000</td>\n",
       "      <td>0.800000</td>\n",
       "    </tr>\n",
       "    <tr>\n",
       "      <th>75%</th>\n",
       "      <td>61.000000</td>\n",
       "      <td>140.000000</td>\n",
       "      <td>274.500000</td>\n",
       "      <td>0.000000</td>\n",
       "      <td>166.000000</td>\n",
       "      <td>1.000000</td>\n",
       "      <td>1.600000</td>\n",
       "    </tr>\n",
       "    <tr>\n",
       "      <th>max</th>\n",
       "      <td>77.000000</td>\n",
       "      <td>200.000000</td>\n",
       "      <td>564.000000</td>\n",
       "      <td>1.000000</td>\n",
       "      <td>202.000000</td>\n",
       "      <td>4.000000</td>\n",
       "      <td>6.200000</td>\n",
       "    </tr>\n",
       "  </tbody>\n",
       "</table>\n",
       "</div>"
      ],
      "text/plain": [
       "              age    trestbps        chol         fbs     thalach          ca  \\\n",
       "count  303.000000  303.000000  303.000000  303.000000  303.000000  303.000000   \n",
       "mean    54.366337  131.623762  246.264026    0.148515  149.646865    0.729373   \n",
       "std      9.082101   17.538143   51.830751    0.356198   22.905161    1.022606   \n",
       "min     29.000000   94.000000  126.000000    0.000000   71.000000    0.000000   \n",
       "25%     47.500000  120.000000  211.000000    0.000000  133.500000    0.000000   \n",
       "50%     55.000000  130.000000  240.000000    0.000000  153.000000    0.000000   \n",
       "75%     61.000000  140.000000  274.500000    0.000000  166.000000    1.000000   \n",
       "max     77.000000  200.000000  564.000000    1.000000  202.000000    4.000000   \n",
       "\n",
       "          oldpeak  \n",
       "count  303.000000  \n",
       "mean     1.039604  \n",
       "std      1.161075  \n",
       "min      0.000000  \n",
       "25%      0.000000  \n",
       "50%      0.800000  \n",
       "75%      1.600000  \n",
       "max      6.200000  "
      ]
     },
     "execution_count": 9,
     "metadata": {},
     "output_type": "execute_result"
    }
   ],
   "source": [
    "heartData[num_feature_list].describe()"
   ]
  },
  {
   "cell_type": "code",
   "execution_count": 10,
   "metadata": {
    "collapsed": false
   },
   "outputs": [
    {
     "name": "stdout",
     "output_type": "stream",
     "text": [
      "number of Heart disease patient = 165\n"
     ]
    }
   ],
   "source": [
    "# 타겟(심장질환) 환자수 확인\n",
    "print('number of Heart disease patient =', heartData[(heartData['target'] ==1) ].count()[1])"
   ]
  },
  {
   "cell_type": "code",
   "execution_count": 11,
   "metadata": {
    "collapsed": false,
    "scrolled": false
   },
   "outputs": [
    {
     "data": {
      "image/png": "[encoded data removed]",
      "text/plain": [
       "<matplotlib.figure.Figure at 0x1b6d1b13cf8>"
      ]
     },
     "metadata": {},
     "output_type": "display_data"
    },
    {
     "data": {
      "image/png": "[encoded data removed]",
      "text/plain": [
       "<matplotlib.figure.Figure at 0x1b6d1b136a0>"
      ]
     },
     "metadata": {},
     "output_type": "display_data"
    },
    {
     "name": "stdout",
     "output_type": "stream",
     "text": [
      "1    54.455446\n",
      "0    45.544554\n",
      "Name: target, dtype: float64\n"
     ]
    }
   ],
   "source": [
    "(heartData['target'].value_counts()/heartData['target'].count()*100).plot(kind='bar')\n",
    "plt.show()\n",
    "print(heartData['target'].value_counts()/heartData['target'].count()*100)"
   ]
  },
  {
   "cell_type": "code",
   "execution_count": 13,
   "metadata": {
    "collapsed": false
   },
   "outputs": [],
   "source": [
    "# Target과 features  분리\n",
    "target_dt = heartData['target']\n",
    "features_dt = heartData.drop(['target'], axis = 1)"
   ]
  },
  {
   "cell_type": "code",
   "execution_count": 14,
   "metadata": {
    "collapsed": false,
    "scrolled": true
   },
   "outputs": [
    {
     "data": {
      "text/plain": [
       "0    1\n",
       "1    1\n",
       "2    1\n",
       "3    1\n",
       "4    1\n",
       "Name: target, dtype: int64"
      ]
     },
     "execution_count": 14,
     "metadata": {},
     "output_type": "execute_result"
    }
   ],
   "source": [
    "target_dt.head()"
   ]
  },
  {
   "cell_type": "code",
   "execution_count": 15,
   "metadata": {
    "collapsed": true
   },
   "outputs": [],
   "source": [
    "# one-hot-encoding\n",
    "features_dt_dm =  pd.get_dummies(features_dt)"
   ]
  },
  {
   "cell_type": "code",
   "execution_count": 16,
   "metadata": {
    "collapsed": false
   },
   "outputs": [
    {
     "data": {
      "text/html": [
       "<div>\n",
       "<table border=\"1\" class=\"dataframe\">\n",
       "  <thead>\n",
       "    <tr style=\"text-align: right;\">\n",
       "      <th></th>\n",
       "      <th>age</th>\n",
       "      <th>trestbps</th>\n",
       "      <th>chol</th>\n",
       "      <th>fbs</th>\n",
       "      <th>thalach</th>\n",
       "      <th>oldpeak</th>\n",
       "      <th>ca</th>\n",
       "      <th>sex_0</th>\n",
       "      <th>sex_1</th>\n",
       "      <th>cp_0</th>\n",
       "      <th>...</th>\n",
       "      <th>restecg_2</th>\n",
       "      <th>exang_0</th>\n",
       "      <th>exang_1</th>\n",
       "      <th>slope_0</th>\n",
       "      <th>slope_1</th>\n",
       "      <th>slope_2</th>\n",
       "      <th>thal_0</th>\n",
       "      <th>thal_1</th>\n",
       "      <th>thal_2</th>\n",
       "      <th>thal_3</th>\n",
       "    </tr>\n",
       "  </thead>\n",
       "  <tbody>\n",
       "    <tr>\n",
       "      <th>0</th>\n",
       "      <td>63</td>\n",
       "      <td>145</td>\n",
       "      <td>233</td>\n",
       "      <td>1</td>\n",
       "      <td>150</td>\n",
       "      <td>2.3</td>\n",
       "      <td>0</td>\n",
       "      <td>0</td>\n",
       "      <td>1</td>\n",
       "      <td>0</td>\n",
       "      <td>...</td>\n",
       "      <td>0</td>\n",
       "      <td>1</td>\n",
       "      <td>0</td>\n",
       "      <td>1</td>\n",
       "      <td>0</td>\n",
       "      <td>0</td>\n",
       "      <td>0</td>\n",
       "      <td>1</td>\n",
       "      <td>0</td>\n",
       "      <td>0</td>\n",
       "    </tr>\n",
       "    <tr>\n",
       "      <th>1</th>\n",
       "      <td>37</td>\n",
       "      <td>130</td>\n",
       "      <td>250</td>\n",
       "      <td>0</td>\n",
       "      <td>187</td>\n",
       "      <td>3.5</td>\n",
       "      <td>0</td>\n",
       "      <td>0</td>\n",
       "      <td>1</td>\n",
       "      <td>0</td>\n",
       "      <td>...</td>\n",
       "      <td>0</td>\n",
       "      <td>1</td>\n",
       "      <td>0</td>\n",
       "      <td>1</td>\n",
       "      <td>0</td>\n",
       "      <td>0</td>\n",
       "      <td>0</td>\n",
       "      <td>0</td>\n",
       "      <td>1</td>\n",
       "      <td>0</td>\n",
       "    </tr>\n",
       "    <tr>\n",
       "      <th>2</th>\n",
       "      <td>41</td>\n",
       "      <td>130</td>\n",
       "      <td>204</td>\n",
       "      <td>0</td>\n",
       "      <td>172</td>\n",
       "      <td>1.4</td>\n",
       "      <td>0</td>\n",
       "      <td>1</td>\n",
       "      <td>0</td>\n",
       "      <td>0</td>\n",
       "      <td>...</td>\n",
       "      <td>0</td>\n",
       "      <td>1</td>\n",
       "      <td>0</td>\n",
       "      <td>0</td>\n",
       "      <td>0</td>\n",
       "      <td>1</td>\n",
       "      <td>0</td>\n",
       "      <td>0</td>\n",
       "      <td>1</td>\n",
       "      <td>0</td>\n",
       "    </tr>\n",
       "    <tr>\n",
       "      <th>3</th>\n",
       "      <td>56</td>\n",
       "      <td>120</td>\n",
       "      <td>236</td>\n",
       "      <td>0</td>\n",
       "      <td>178</td>\n",
       "      <td>0.8</td>\n",
       "      <td>0</td>\n",
       "      <td>0</td>\n",
       "      <td>1</td>\n",
       "      <td>0</td>\n",
       "      <td>...</td>\n",
       "      <td>0</td>\n",
       "      <td>1</td>\n",
       "      <td>0</td>\n",
       "      <td>0</td>\n",
       "      <td>0</td>\n",
       "      <td>1</td>\n",
       "      <td>0</td>\n",
       "      <td>0</td>\n",
       "      <td>1</td>\n",
       "      <td>0</td>\n",
       "    </tr>\n",
       "    <tr>\n",
       "      <th>4</th>\n",
       "      <td>57</td>\n",
       "      <td>120</td>\n",
       "      <td>354</td>\n",
       "      <td>0</td>\n",
       "      <td>163</td>\n",
       "      <td>0.6</td>\n",
       "      <td>0</td>\n",
       "      <td>1</td>\n",
       "      <td>0</td>\n",
       "      <td>1</td>\n",
       "      <td>...</td>\n",
       "      <td>0</td>\n",
       "      <td>0</td>\n",
       "      <td>1</td>\n",
       "      <td>0</td>\n",
       "      <td>0</td>\n",
       "      <td>1</td>\n",
       "      <td>0</td>\n",
       "      <td>0</td>\n",
       "      <td>1</td>\n",
       "      <td>0</td>\n",
       "    </tr>\n",
       "  </tbody>\n",
       "</table>\n",
       "<p>5 rows × 25 columns</p>\n",
       "</div>"
      ],
      "text/plain": [
       "   age  trestbps  chol  fbs  thalach  oldpeak  ca  sex_0  sex_1  cp_0   ...    \\\n",
       "0   63       145   233    1      150      2.3   0      0      1     0   ...     \n",
       "1   37       130   250    0      187      3.5   0      0      1     0   ...     \n",
       "2   41       130   204    0      172      1.4   0      1      0     0   ...     \n",
       "3   56       120   236    0      178      0.8   0      0      1     0   ...     \n",
       "4   57       120   354    0      163      0.6   0      1      0     1   ...     \n",
       "\n",
       "   restecg_2  exang_0  exang_1  slope_0  slope_1  slope_2  thal_0  thal_1  \\\n",
       "0          0        1        0        1        0        0       0       1   \n",
       "1          0        1        0        1        0        0       0       0   \n",
       "2          0        1        0        0        0        1       0       0   \n",
       "3          0        1        0        0        0        1       0       0   \n",
       "4          0        0        1        0        0        1       0       0   \n",
       "\n",
       "   thal_2  thal_3  \n",
       "0       0       0  \n",
       "1       1       0  \n",
       "2       1       0  \n",
       "3       1       0  \n",
       "4       1       0  \n",
       "\n",
       "[5 rows x 25 columns]"
      ]
     },
     "execution_count": 16,
     "metadata": {},
     "output_type": "execute_result"
    }
   ],
   "source": [
    "features_dt_dm.head()"
   ]
  },
  {
   "cell_type": "code",
   "execution_count": 17,
   "metadata": {
    "collapsed": true
   },
   "outputs": [],
   "source": [
    "# Train데이터와 Test를 나눈다.\n",
    "import numpy as np\n",
    "from sklearn.model_selection import train_test_split\n",
    "X_train, X_test, y_train, y_test = train_test_split(features_dt_dm, target_dt, random_state=20181201)"
   ]
  },
  {
   "cell_type": "code",
   "execution_count": 18,
   "metadata": {
    "collapsed": false
   },
   "outputs": [
    {
     "data": {
      "text/html": [
       "<div>\n",
       "<table border=\"1\" class=\"dataframe\">\n",
       "  <thead>\n",
       "    <tr style=\"text-align: right;\">\n",
       "      <th></th>\n",
       "      <th>age</th>\n",
       "      <th>trestbps</th>\n",
       "      <th>chol</th>\n",
       "      <th>fbs</th>\n",
       "      <th>thalach</th>\n",
       "      <th>oldpeak</th>\n",
       "      <th>ca</th>\n",
       "      <th>sex_0</th>\n",
       "      <th>sex_1</th>\n",
       "      <th>cp_0</th>\n",
       "      <th>...</th>\n",
       "      <th>restecg_2</th>\n",
       "      <th>exang_0</th>\n",
       "      <th>exang_1</th>\n",
       "      <th>slope_0</th>\n",
       "      <th>slope_1</th>\n",
       "      <th>slope_2</th>\n",
       "      <th>thal_0</th>\n",
       "      <th>thal_1</th>\n",
       "      <th>thal_2</th>\n",
       "      <th>thal_3</th>\n",
       "    </tr>\n",
       "  </thead>\n",
       "  <tbody>\n",
       "    <tr>\n",
       "      <th>284</th>\n",
       "      <td>61</td>\n",
       "      <td>140</td>\n",
       "      <td>207</td>\n",
       "      <td>0</td>\n",
       "      <td>138</td>\n",
       "      <td>1.9</td>\n",
       "      <td>1</td>\n",
       "      <td>0</td>\n",
       "      <td>1</td>\n",
       "      <td>1</td>\n",
       "      <td>...</td>\n",
       "      <td>0</td>\n",
       "      <td>0</td>\n",
       "      <td>1</td>\n",
       "      <td>0</td>\n",
       "      <td>0</td>\n",
       "      <td>1</td>\n",
       "      <td>0</td>\n",
       "      <td>0</td>\n",
       "      <td>0</td>\n",
       "      <td>1</td>\n",
       "    </tr>\n",
       "    <tr>\n",
       "      <th>97</th>\n",
       "      <td>52</td>\n",
       "      <td>108</td>\n",
       "      <td>233</td>\n",
       "      <td>1</td>\n",
       "      <td>147</td>\n",
       "      <td>0.1</td>\n",
       "      <td>3</td>\n",
       "      <td>0</td>\n",
       "      <td>1</td>\n",
       "      <td>1</td>\n",
       "      <td>...</td>\n",
       "      <td>0</td>\n",
       "      <td>1</td>\n",
       "      <td>0</td>\n",
       "      <td>0</td>\n",
       "      <td>0</td>\n",
       "      <td>1</td>\n",
       "      <td>0</td>\n",
       "      <td>0</td>\n",
       "      <td>0</td>\n",
       "      <td>1</td>\n",
       "    </tr>\n",
       "    <tr>\n",
       "      <th>271</th>\n",
       "      <td>61</td>\n",
       "      <td>134</td>\n",
       "      <td>234</td>\n",
       "      <td>0</td>\n",
       "      <td>145</td>\n",
       "      <td>2.6</td>\n",
       "      <td>2</td>\n",
       "      <td>0</td>\n",
       "      <td>1</td>\n",
       "      <td>0</td>\n",
       "      <td>...</td>\n",
       "      <td>0</td>\n",
       "      <td>1</td>\n",
       "      <td>0</td>\n",
       "      <td>0</td>\n",
       "      <td>1</td>\n",
       "      <td>0</td>\n",
       "      <td>0</td>\n",
       "      <td>0</td>\n",
       "      <td>1</td>\n",
       "      <td>0</td>\n",
       "    </tr>\n",
       "    <tr>\n",
       "      <th>219</th>\n",
       "      <td>48</td>\n",
       "      <td>130</td>\n",
       "      <td>256</td>\n",
       "      <td>1</td>\n",
       "      <td>150</td>\n",
       "      <td>0.0</td>\n",
       "      <td>2</td>\n",
       "      <td>0</td>\n",
       "      <td>1</td>\n",
       "      <td>1</td>\n",
       "      <td>...</td>\n",
       "      <td>0</td>\n",
       "      <td>0</td>\n",
       "      <td>1</td>\n",
       "      <td>0</td>\n",
       "      <td>0</td>\n",
       "      <td>1</td>\n",
       "      <td>0</td>\n",
       "      <td>0</td>\n",
       "      <td>0</td>\n",
       "      <td>1</td>\n",
       "    </tr>\n",
       "    <tr>\n",
       "      <th>106</th>\n",
       "      <td>69</td>\n",
       "      <td>160</td>\n",
       "      <td>234</td>\n",
       "      <td>1</td>\n",
       "      <td>131</td>\n",
       "      <td>0.1</td>\n",
       "      <td>1</td>\n",
       "      <td>0</td>\n",
       "      <td>1</td>\n",
       "      <td>0</td>\n",
       "      <td>...</td>\n",
       "      <td>0</td>\n",
       "      <td>1</td>\n",
       "      <td>0</td>\n",
       "      <td>0</td>\n",
       "      <td>1</td>\n",
       "      <td>0</td>\n",
       "      <td>0</td>\n",
       "      <td>0</td>\n",
       "      <td>1</td>\n",
       "      <td>0</td>\n",
       "    </tr>\n",
       "  </tbody>\n",
       "</table>\n",
       "<p>5 rows × 25 columns</p>\n",
       "</div>"
      ],
      "text/plain": [
       "     age  trestbps  chol  fbs  thalach  oldpeak  ca  sex_0  sex_1  cp_0  \\\n",
       "284   61       140   207    0      138      1.9   1      0      1     1   \n",
       "97    52       108   233    1      147      0.1   3      0      1     1   \n",
       "271   61       134   234    0      145      2.6   2      0      1     0   \n",
       "219   48       130   256    1      150      0.0   2      0      1     1   \n",
       "106   69       160   234    1      131      0.1   1      0      1     0   \n",
       "\n",
       "      ...    restecg_2  exang_0  exang_1  slope_0  slope_1  slope_2  thal_0  \\\n",
       "284   ...            0        0        1        0        0        1       0   \n",
       "97    ...            0        1        0        0        0        1       0   \n",
       "271   ...            0        1        0        0        1        0       0   \n",
       "219   ...            0        0        1        0        0        1       0   \n",
       "106   ...            0        1        0        0        1        0       0   \n",
       "\n",
       "     thal_1  thal_2  thal_3  \n",
       "284       0       0       1  \n",
       "97        0       0       1  \n",
       "271       0       1       0  \n",
       "219       0       0       1  \n",
       "106       0       1       0  \n",
       "\n",
       "[5 rows x 25 columns]"
      ]
     },
     "execution_count": 18,
     "metadata": {},
     "output_type": "execute_result"
    }
   ],
   "source": [
    "X_train.head()"
   ]
  },
  {
   "cell_type": "code",
   "execution_count": 19,
   "metadata": {
    "collapsed": false
   },
   "outputs": [
    {
     "name": "stdout",
     "output_type": "stream",
     "text": [
      "(227,)\n",
      "(227, 25)\n"
     ]
    }
   ],
   "source": [
    "print(y_train.shape)\n",
    "print(X_train.shape)"
   ]
  },
  {
   "cell_type": "markdown",
   "metadata": {
    "collapsed": true
   },
   "source": [
    "# 분류 모형"
   ]
  },
  {
   "cell_type": "markdown",
   "metadata": {},
   "source": [
    "### DecisionTreeClassifier\n",
    "---\n",
    "    의사결정나무는 의사 결정 규칙을 학습하여 대상 변수의 값을 예측하는 모델이다.\n",
    "    여러 특징 중 하나의 특징을 선택하고 그 특징에 대한 기준값(threshold)을 정하여 구분하는데 이를 분류 규칙(분할기준)이라고 한다.\n",
    "    규칙을 정하는 방법은 부모노드(상위노드)와 자식노드(하위노드)간의 정보획득량(information gain)를 가장 낮게 만드는 특징과 기준값을 찾는 것이다. \n",
    "    정보획득량이란 정보이론에서 다루는데 어떤 특징이 얼마만큼의 정보를 줄수 있는지를 수치화 한 값이다.\n",
    "    순도(homogeneity)가 증가하고, 불순도(impurity) 또는 불확실성(uncertainty)이 최대로 감소하는 방향으로 학습을 한다.\n",
    "    \n",
    "    의사결정나무에서는 지니계수(Gini index)와 엔트로피 불확실성(entropy)를 주로 사용한다. \n",
    "    \n",
    "    DecisionTreeClassifier(criterion='gini', splitter='best', max_depth=None, min_samples_split=2, min_samples_leaf=1, min_weight_fraction_leaf=0.0, max_features=None, random_state=None, max_leaf_nodes=None, min_impurity_decrease=0.0, min_impurity_split=None, class_weight=None, presort=False)\n",
    "    \n",
    "### RandomForestClassifier\n",
    "---\n",
    "    랜덤포레스트는 여러 개의 결정 트리들을 임의적으로 학습하는 방식의 앙상블 방법의 하나이다.\n",
    "    훈련 과정에서 구성한 결정 트리로부터 분류를 함으로써 동작한다.\n",
    "    \n",
    "    RandomForestClassifier(n_estimators=’warn’, criterion=’gini’, max_depth=None, min_samples_split=2, min_samples_leaf=1, min_weight_fraction_leaf=0.0, max_features=’auto’, max_leaf_nodes=None, min_impurity_decrease=0.0, min_impurity_split=None, bootstrap=True, oob_score=False, n_jobs=None, random_state=None, verbose=0, warm_start=False, class_weight=None)\n",
    "    \n",
    "### AdaBoostClassifier(adaptive boosting)\n",
    "---\n",
    "    AdaBoost의 핵심은 약한 학습기의 결과물에 가중치를 더하여 boosting 분류기의 최종결과물을 얻는다.\n",
    "    AdaBoostClassifier(base_estimator=None, n_estimators=50, learning_rate=1.0, algorithm=’SAMME.R’, random_state=None)\n",
    "    \n",
    "    정리글 참고\n",
    "https://github.com/sung-hyo/Major-keyword/blob/master/bagging_boosting_other_description.ipynb"
   ]
  },
  {
   "cell_type": "code",
   "execution_count": 20,
   "metadata": {
    "collapsed": true
   },
   "outputs": [],
   "source": [
    "# 기초 모형\n",
    "from sklearn.tree import DecisionTreeClassifier\n",
    "model = DecisionTreeClassifier().fit(X_train, y_train)"
   ]
  },
  {
   "cell_type": "code",
   "execution_count": 21,
   "metadata": {
    "collapsed": false,
    "scrolled": true
   },
   "outputs": [
    {
     "data": {
      "text/plain": [
       "0.7763157894736842"
      ]
     },
     "execution_count": 21,
     "metadata": {},
     "output_type": "execute_result"
    }
   ],
   "source": [
    "model.score(X_test, y_test)"
   ]
  },
  {
   "cell_type": "code",
   "execution_count": 22,
   "metadata": {
    "collapsed": true
   },
   "outputs": [],
   "source": [
    "feature_names = X_test.columns\n",
    "target_names = ['normal','patient']"
   ]
  },
  {
   "cell_type": "markdown",
   "metadata": {},
   "source": [
    "#### 그리드 서치를 통하여 매개변수를 변화시켜 최적의 모형을 찾는다\n",
    "---\n"
   ]
  },
  {
   "cell_type": "code",
   "execution_count": 55,
   "metadata": {
    "collapsed": false
   },
   "outputs": [
    {
     "name": "stdout",
     "output_type": "stream",
     "text": [
      "Fitting 7 folds for each of 101 candidates, totalling 707 fits\n",
      "Wall time: 9.6 s\n"
     ]
    },
    {
     "name": "stderr",
     "output_type": "stream",
     "text": [
      "[Parallel(n_jobs=1)]: Done 707 out of 707 | elapsed:    9.5s finished\n"
     ]
    }
   ],
   "source": [
    "%%time\n",
    "from sklearn.neighbors import KNeighborsClassifier\n",
    "from sklearn.tree import DecisionTreeClassifier\n",
    "from sklearn.ensemble import RandomForestClassifier\n",
    "from sklearn.ensemble import AdaBoostClassifier\n",
    "from sklearn.ensemble import GradientBoostingClassifier\n",
    "\n",
    "#교차 검증을 위해 k-fold 객체를 생성한다. \n",
    "from sklearn.model_selection import KFold \n",
    "kfold = KFold(n_splits=5, random_state=20190102)\n",
    "\n",
    "from sklearn.pipeline import Pipeline\n",
    "\n",
    "random_state = [20190102]\n",
    "# 하이퍼 파라메타\n",
    "learning_rate = [0.001, 0.01, 0.05, 0.1, 0.5, 1.0]\n",
    "\n",
    "n_neighbors = np.arange(1,20,1)\n",
    "\n",
    "max_depth = np.arange(1,20,1)\n",
    "\n",
    "n_features = np.arange(1,10,1)\n",
    "n_estimators = np.arange(1,10,1)\n",
    "\n",
    "alpha = np.arange(0.0001,0.001,0.001)\n",
    "\n",
    "loss = ['linear', 'square', 'exponential']\n",
    "\n",
    "param_grid = [\n",
    "              {'classifier':[KNeighborsClassifier()],\n",
    "               'classifier__n_neighbors':n_neighbors},\n",
    "              {'classifier':[DecisionTreeClassifier()],\n",
    "               'classifier__max_depth':max_depth,\n",
    "               'classifier__random_state':random_state},\n",
    "              {'classifier':[RandomForestClassifier()],\n",
    "               'classifier__n_estimators':n_estimators,\n",
    "               'classifier__random_state':random_state},\n",
    "              {'classifier':[AdaBoostClassifier()],\n",
    "               'classifier__n_estimators':n_estimators,\n",
    "               'classifier__learning_rate':learning_rate,\n",
    "               'classifier__random_state':random_state}\n",
    "             ]\n",
    "KFold = KFold(n_splits=7, random_state=20190102)\n",
    "                 \n",
    "pipe = Pipeline([('classifier', DecisionTreeClassifier())])\n",
    "\n",
    "\n",
    "from sklearn.model_selection import GridSearchCV \n",
    "## GridSeach : 분류의 성능을 f1점수로 \n",
    "grid_ridge = GridSearchCV(pipe, param_grid=param_grid, scoring='f1', cv=KFold, verbose=1, return_train_score=True)\n",
    "\n",
    "grid_result = grid_ridge.fit(X_train, y_train)"
   ]
  },
  {
   "cell_type": "code",
   "execution_count": 56,
   "metadata": {
    "collapsed": false,
    "scrolled": true
   },
   "outputs": [
    {
     "name": "stdout",
     "output_type": "stream",
     "text": [
      "Best: 0.873929 using {'classifier': AdaBoostClassifier(algorithm='SAMME.R', base_estimator=None,\n",
      "          learning_rate=0.5, n_estimators=9, random_state=20190102), 'classifier__learning_rate': 0.5, 'classifier__n_estimators': 9, 'classifier__random_state': 20190102}\n",
      "99.000000 (0.106772) with: {'classifier': KNeighborsClassifier(algorithm='auto', leaf_size=30, metric='minkowski',\n",
      "           metric_params=None, n_jobs=1, n_neighbors=19, p=2,\n",
      "           weights='uniform'), 'classifier__n_neighbors': 1}\n",
      "101.000000 (0.077536) with: {'classifier': KNeighborsClassifier(algorithm='auto', leaf_size=30, metric='minkowski',\n",
      "           metric_params=None, n_jobs=1, n_neighbors=19, p=2,\n",
      "           weights='uniform'), 'classifier__n_neighbors': 2}\n",
      "97.000000 (0.082205) with: {'classifier': KNeighborsClassifier(algorithm='auto', leaf_size=30, metric='minkowski',\n",
      "           metric_params=None, n_jobs=1, n_neighbors=19, p=2,\n",
      "           weights='uniform'), 'classifier__n_neighbors': 3}\n",
      "98.000000 (0.107040) with: {'classifier': KNeighborsClassifier(algorithm='auto', leaf_size=30, metric='minkowski',\n",
      "           metric_params=None, n_jobs=1, n_neighbors=19, p=2,\n",
      "           weights='uniform'), 'classifier__n_neighbors': 4}\n",
      "93.000000 (0.074919) with: {'classifier': KNeighborsClassifier(algorithm='auto', leaf_size=30, metric='minkowski',\n",
      "           metric_params=None, n_jobs=1, n_neighbors=19, p=2,\n",
      "           weights='uniform'), 'classifier__n_neighbors': 5}\n",
      "100.000000 (0.107052) with: {'classifier': KNeighborsClassifier(algorithm='auto', leaf_size=30, metric='minkowski',\n",
      "           metric_params=None, n_jobs=1, n_neighbors=19, p=2,\n",
      "           weights='uniform'), 'classifier__n_neighbors': 6}\n",
      "91.000000 (0.069266) with: {'classifier': KNeighborsClassifier(algorithm='auto', leaf_size=30, metric='minkowski',\n",
      "           metric_params=None, n_jobs=1, n_neighbors=19, p=2,\n",
      "           weights='uniform'), 'classifier__n_neighbors': 7}\n",
      "96.000000 (0.069245) with: {'classifier': KNeighborsClassifier(algorithm='auto', leaf_size=30, metric='minkowski',\n",
      "           metric_params=None, n_jobs=1, n_neighbors=19, p=2,\n",
      "           weights='uniform'), 'classifier__n_neighbors': 8}\n",
      "89.000000 (0.081100) with: {'classifier': KNeighborsClassifier(algorithm='auto', leaf_size=30, metric='minkowski',\n",
      "           metric_params=None, n_jobs=1, n_neighbors=19, p=2,\n",
      "           weights='uniform'), 'classifier__n_neighbors': 9}\n",
      "92.000000 (0.085469) with: {'classifier': KNeighborsClassifier(algorithm='auto', leaf_size=30, metric='minkowski',\n",
      "           metric_params=None, n_jobs=1, n_neighbors=19, p=2,\n",
      "           weights='uniform'), 'classifier__n_neighbors': 10}\n",
      "87.000000 (0.056597) with: {'classifier': KNeighborsClassifier(algorithm='auto', leaf_size=30, metric='minkowski',\n",
      "           metric_params=None, n_jobs=1, n_neighbors=19, p=2,\n",
      "           weights='uniform'), 'classifier__n_neighbors': 11}\n",
      "95.000000 (0.049747) with: {'classifier': KNeighborsClassifier(algorithm='auto', leaf_size=30, metric='minkowski',\n",
      "           metric_params=None, n_jobs=1, n_neighbors=19, p=2,\n",
      "           weights='uniform'), 'classifier__n_neighbors': 12}\n",
      "86.000000 (0.043733) with: {'classifier': KNeighborsClassifier(algorithm='auto', leaf_size=30, metric='minkowski',\n",
      "           metric_params=None, n_jobs=1, n_neighbors=19, p=2,\n",
      "           weights='uniform'), 'classifier__n_neighbors': 13}\n",
      "90.000000 (0.059551) with: {'classifier': KNeighborsClassifier(algorithm='auto', leaf_size=30, metric='minkowski',\n",
      "           metric_params=None, n_jobs=1, n_neighbors=19, p=2,\n",
      "           weights='uniform'), 'classifier__n_neighbors': 14}\n",
      "85.000000 (0.047202) with: {'classifier': KNeighborsClassifier(algorithm='auto', leaf_size=30, metric='minkowski',\n",
      "           metric_params=None, n_jobs=1, n_neighbors=19, p=2,\n",
      "           weights='uniform'), 'classifier__n_neighbors': 15}\n",
      "84.000000 (0.034451) with: {'classifier': KNeighborsClassifier(algorithm='auto', leaf_size=30, metric='minkowski',\n",
      "           metric_params=None, n_jobs=1, n_neighbors=19, p=2,\n",
      "           weights='uniform'), 'classifier__n_neighbors': 16}\n",
      "82.000000 (0.056044) with: {'classifier': KNeighborsClassifier(algorithm='auto', leaf_size=30, metric='minkowski',\n",
      "           metric_params=None, n_jobs=1, n_neighbors=19, p=2,\n",
      "           weights='uniform'), 'classifier__n_neighbors': 17}\n",
      "88.000000 (0.032193) with: {'classifier': KNeighborsClassifier(algorithm='auto', leaf_size=30, metric='minkowski',\n",
      "           metric_params=None, n_jobs=1, n_neighbors=19, p=2,\n",
      "           weights='uniform'), 'classifier__n_neighbors': 18}\n",
      "81.000000 (0.035523) with: {'classifier': KNeighborsClassifier(algorithm='auto', leaf_size=30, metric='minkowski',\n",
      "           metric_params=None, n_jobs=1, n_neighbors=19, p=2,\n",
      "           weights='uniform'), 'classifier__n_neighbors': 19}\n",
      "36.000000 (0.072708) with: {'classifier': DecisionTreeClassifier(class_weight=None, criterion='gini', max_depth=19,\n",
      "            max_features=None, max_leaf_nodes=None,\n",
      "            min_impurity_split=1e-07, min_samples_leaf=1,\n",
      "            min_samples_split=2, min_weight_fraction_leaf=0.0,\n",
      "            presort=False, random_state=20190102, splitter='best'), 'classifier__max_depth': 1, 'classifier__random_state': 20190102}\n",
      "63.000000 (0.063206) with: {'classifier': DecisionTreeClassifier(class_weight=None, criterion='gini', max_depth=19,\n",
      "            max_features=None, max_leaf_nodes=None,\n",
      "            min_impurity_split=1e-07, min_samples_leaf=1,\n",
      "            min_samples_split=2, min_weight_fraction_leaf=0.0,\n",
      "            presort=False, random_state=20190102, splitter='best'), 'classifier__max_depth': 2, 'classifier__random_state': 20190102}\n",
      "29.000000 (0.091931) with: {'classifier': DecisionTreeClassifier(class_weight=None, criterion='gini', max_depth=19,\n",
      "            max_features=None, max_leaf_nodes=None,\n",
      "            min_impurity_split=1e-07, min_samples_leaf=1,\n",
      "            min_samples_split=2, min_weight_fraction_leaf=0.0,\n",
      "            presort=False, random_state=20190102, splitter='best'), 'classifier__max_depth': 3, 'classifier__random_state': 20190102}\n",
      "30.000000 (0.058302) with: {'classifier': DecisionTreeClassifier(class_weight=None, criterion='gini', max_depth=19,\n",
      "            max_features=None, max_leaf_nodes=None,\n",
      "            min_impurity_split=1e-07, min_samples_leaf=1,\n",
      "            min_samples_split=2, min_weight_fraction_leaf=0.0,\n",
      "            presort=False, random_state=20190102, splitter='best'), 'classifier__max_depth': 4, 'classifier__random_state': 20190102}\n",
      "64.000000 (0.090380) with: {'classifier': DecisionTreeClassifier(class_weight=None, criterion='gini', max_depth=19,\n",
      "            max_features=None, max_leaf_nodes=None,\n",
      "            min_impurity_split=1e-07, min_samples_leaf=1,\n",
      "            min_samples_split=2, min_weight_fraction_leaf=0.0,\n",
      "            presort=False, random_state=20190102, splitter='best'), 'classifier__max_depth': 5, 'classifier__random_state': 20190102}\n",
      "65.000000 (0.090361) with: {'classifier': DecisionTreeClassifier(class_weight=None, criterion='gini', max_depth=19,\n",
      "            max_features=None, max_leaf_nodes=None,\n",
      "            min_impurity_split=1e-07, min_samples_leaf=1,\n",
      "            min_samples_split=2, min_weight_fraction_leaf=0.0,\n",
      "            presort=False, random_state=20190102, splitter='best'), 'classifier__max_depth': 6, 'classifier__random_state': 20190102}\n",
      "68.000000 (0.058419) with: {'classifier': DecisionTreeClassifier(class_weight=None, criterion='gini', max_depth=19,\n",
      "            max_features=None, max_leaf_nodes=None,\n",
      "            min_impurity_split=1e-07, min_samples_leaf=1,\n",
      "            min_samples_split=2, min_weight_fraction_leaf=0.0,\n",
      "            presort=False, random_state=20190102, splitter='best'), 'classifier__max_depth': 7, 'classifier__random_state': 20190102}\n",
      "67.000000 (0.068007) with: {'classifier': DecisionTreeClassifier(class_weight=None, criterion='gini', max_depth=19,\n",
      "            max_features=None, max_leaf_nodes=None,\n",
      "            min_impurity_split=1e-07, min_samples_leaf=1,\n",
      "            min_samples_split=2, min_weight_fraction_leaf=0.0,\n",
      "            presort=False, random_state=20190102, splitter='best'), 'classifier__max_depth': 8, 'classifier__random_state': 20190102}\n",
      "69.000000 (0.071509) with: {'classifier': DecisionTreeClassifier(class_weight=None, criterion='gini', max_depth=19,\n",
      "            max_features=None, max_leaf_nodes=None,\n",
      "            min_impurity_split=1e-07, min_samples_leaf=1,\n",
      "            min_samples_split=2, min_weight_fraction_leaf=0.0,\n",
      "            presort=False, random_state=20190102, splitter='best'), 'classifier__max_depth': 9, 'classifier__random_state': 20190102}\n",
      "69.000000 (0.071509) with: {'classifier': DecisionTreeClassifier(class_weight=None, criterion='gini', max_depth=19,\n",
      "            max_features=None, max_leaf_nodes=None,\n",
      "            min_impurity_split=1e-07, min_samples_leaf=1,\n",
      "            min_samples_split=2, min_weight_fraction_leaf=0.0,\n",
      "            presort=False, random_state=20190102, splitter='best'), 'classifier__max_depth': 10, 'classifier__random_state': 20190102}\n",
      "69.000000 (0.071509) with: {'classifier': DecisionTreeClassifier(class_weight=None, criterion='gini', max_depth=19,\n",
      "            max_features=None, max_leaf_nodes=None,\n",
      "            min_impurity_split=1e-07, min_samples_leaf=1,\n",
      "            min_samples_split=2, min_weight_fraction_leaf=0.0,\n",
      "            presort=False, random_state=20190102, splitter='best'), 'classifier__max_depth': 11, 'classifier__random_state': 20190102}\n",
      "69.000000 (0.071509) with: {'classifier': DecisionTreeClassifier(class_weight=None, criterion='gini', max_depth=19,\n",
      "            max_features=None, max_leaf_nodes=None,\n",
      "            min_impurity_split=1e-07, min_samples_leaf=1,\n",
      "            min_samples_split=2, min_weight_fraction_leaf=0.0,\n",
      "            presort=False, random_state=20190102, splitter='best'), 'classifier__max_depth': 12, 'classifier__random_state': 20190102}\n",
      "69.000000 (0.071509) with: {'classifier': DecisionTreeClassifier(class_weight=None, criterion='gini', max_depth=19,\n",
      "            max_features=None, max_leaf_nodes=None,\n",
      "            min_impurity_split=1e-07, min_samples_leaf=1,\n",
      "            min_samples_split=2, min_weight_fraction_leaf=0.0,\n",
      "            presort=False, random_state=20190102, splitter='best'), 'classifier__max_depth': 13, 'classifier__random_state': 20190102}\n",
      "69.000000 (0.071509) with: {'classifier': DecisionTreeClassifier(class_weight=None, criterion='gini', max_depth=19,\n",
      "            max_features=None, max_leaf_nodes=None,\n",
      "            min_impurity_split=1e-07, min_samples_leaf=1,\n",
      "            min_samples_split=2, min_weight_fraction_leaf=0.0,\n",
      "            presort=False, random_state=20190102, splitter='best'), 'classifier__max_depth': 14, 'classifier__random_state': 20190102}\n",
      "69.000000 (0.071509) with: {'classifier': DecisionTreeClassifier(class_weight=None, criterion='gini', max_depth=19,\n",
      "            max_features=None, max_leaf_nodes=None,\n",
      "            min_impurity_split=1e-07, min_samples_leaf=1,\n",
      "            min_samples_split=2, min_weight_fraction_leaf=0.0,\n",
      "            presort=False, random_state=20190102, splitter='best'), 'classifier__max_depth': 15, 'classifier__random_state': 20190102}\n",
      "69.000000 (0.071509) with: {'classifier': DecisionTreeClassifier(class_weight=None, criterion='gini', max_depth=19,\n",
      "            max_features=None, max_leaf_nodes=None,\n",
      "            min_impurity_split=1e-07, min_samples_leaf=1,\n",
      "            min_samples_split=2, min_weight_fraction_leaf=0.0,\n",
      "            presort=False, random_state=20190102, splitter='best'), 'classifier__max_depth': 16, 'classifier__random_state': 20190102}\n",
      "69.000000 (0.071509) with: {'classifier': DecisionTreeClassifier(class_weight=None, criterion='gini', max_depth=19,\n",
      "            max_features=None, max_leaf_nodes=None,\n",
      "            min_impurity_split=1e-07, min_samples_leaf=1,\n",
      "            min_samples_split=2, min_weight_fraction_leaf=0.0,\n",
      "            presort=False, random_state=20190102, splitter='best'), 'classifier__max_depth': 17, 'classifier__random_state': 20190102}\n",
      "69.000000 (0.071509) with: {'classifier': DecisionTreeClassifier(class_weight=None, criterion='gini', max_depth=19,\n",
      "            max_features=None, max_leaf_nodes=None,\n",
      "            min_impurity_split=1e-07, min_samples_leaf=1,\n",
      "            min_samples_split=2, min_weight_fraction_leaf=0.0,\n",
      "            presort=False, random_state=20190102, splitter='best'), 'classifier__max_depth': 18, 'classifier__random_state': 20190102}\n",
      "69.000000 (0.071509) with: {'classifier': DecisionTreeClassifier(class_weight=None, criterion='gini', max_depth=19,\n",
      "            max_features=None, max_leaf_nodes=None,\n",
      "            min_impurity_split=1e-07, min_samples_leaf=1,\n",
      "            min_samples_split=2, min_weight_fraction_leaf=0.0,\n",
      "            presort=False, random_state=20190102, splitter='best'), 'classifier__max_depth': 19, 'classifier__random_state': 20190102}\n",
      "83.000000 (0.150471) with: {'classifier': RandomForestClassifier(bootstrap=True, class_weight=None, criterion='gini',\n",
      "            max_depth=None, max_features='auto', max_leaf_nodes=None,\n",
      "            min_impurity_split=1e-07, min_samples_leaf=1,\n",
      "            min_samples_split=2, min_weight_fraction_leaf=0.0,\n",
      "            n_estimators=9, n_jobs=1, oob_score=False,\n",
      "            random_state=20190102, verbose=0, warm_start=False), 'classifier__n_estimators': 1, 'classifier__random_state': 20190102}\n",
      "94.000000 (0.136898) with: {'classifier': RandomForestClassifier(bootstrap=True, class_weight=None, criterion='gini',\n",
      "            max_depth=None, max_features='auto', max_leaf_nodes=None,\n",
      "            min_impurity_split=1e-07, min_samples_leaf=1,\n",
      "            min_samples_split=2, min_weight_fraction_leaf=0.0,\n",
      "            n_estimators=9, n_jobs=1, oob_score=False,\n",
      "            random_state=20190102, verbose=0, warm_start=False), 'classifier__n_estimators': 2, 'classifier__random_state': 20190102}\n",
      "66.000000 (0.108602) with: {'classifier': RandomForestClassifier(bootstrap=True, class_weight=None, criterion='gini',\n",
      "            max_depth=None, max_features='auto', max_leaf_nodes=None,\n",
      "            min_impurity_split=1e-07, min_samples_leaf=1,\n",
      "            min_samples_split=2, min_weight_fraction_leaf=0.0,\n",
      "            n_estimators=9, n_jobs=1, oob_score=False,\n",
      "            random_state=20190102, verbose=0, warm_start=False), 'classifier__n_estimators': 3, 'classifier__random_state': 20190102}\n",
      "80.000000 (0.093138) with: {'classifier': RandomForestClassifier(bootstrap=True, class_weight=None, criterion='gini',\n",
      "            max_depth=None, max_features='auto', max_leaf_nodes=None,\n",
      "            min_impurity_split=1e-07, min_samples_leaf=1,\n",
      "            min_samples_split=2, min_weight_fraction_leaf=0.0,\n",
      "            n_estimators=9, n_jobs=1, oob_score=False,\n",
      "            random_state=20190102, verbose=0, warm_start=False), 'classifier__n_estimators': 4, 'classifier__random_state': 20190102}\n",
      "35.000000 (0.068048) with: {'classifier': RandomForestClassifier(bootstrap=True, class_weight=None, criterion='gini',\n",
      "            max_depth=None, max_features='auto', max_leaf_nodes=None,\n",
      "            min_impurity_split=1e-07, min_samples_leaf=1,\n",
      "            min_samples_split=2, min_weight_fraction_leaf=0.0,\n",
      "            n_estimators=9, n_jobs=1, oob_score=False,\n",
      "            random_state=20190102, verbose=0, warm_start=False), 'classifier__n_estimators': 5, 'classifier__random_state': 20190102}\n",
      "33.000000 (0.057839) with: {'classifier': RandomForestClassifier(bootstrap=True, class_weight=None, criterion='gini',\n",
      "            max_depth=None, max_features='auto', max_leaf_nodes=None,\n",
      "            min_impurity_split=1e-07, min_samples_leaf=1,\n",
      "            min_samples_split=2, min_weight_fraction_leaf=0.0,\n",
      "            n_estimators=9, n_jobs=1, oob_score=False,\n",
      "            random_state=20190102, verbose=0, warm_start=False), 'classifier__n_estimators': 6, 'classifier__random_state': 20190102}\n",
      "23.000000 (0.049332) with: {'classifier': RandomForestClassifier(bootstrap=True, class_weight=None, criterion='gini',\n",
      "            max_depth=None, max_features='auto', max_leaf_nodes=None,\n",
      "            min_impurity_split=1e-07, min_samples_leaf=1,\n",
      "            min_samples_split=2, min_weight_fraction_leaf=0.0,\n",
      "            n_estimators=9, n_jobs=1, oob_score=False,\n",
      "            random_state=20190102, verbose=0, warm_start=False), 'classifier__n_estimators': 7, 'classifier__random_state': 20190102}\n",
      "62.000000 (0.064126) with: {'classifier': RandomForestClassifier(bootstrap=True, class_weight=None, criterion='gini',\n",
      "            max_depth=None, max_features='auto', max_leaf_nodes=None,\n",
      "            min_impurity_split=1e-07, min_samples_leaf=1,\n",
      "            min_samples_split=2, min_weight_fraction_leaf=0.0,\n",
      "            n_estimators=9, n_jobs=1, oob_score=False,\n",
      "            random_state=20190102, verbose=0, warm_start=False), 'classifier__n_estimators': 8, 'classifier__random_state': 20190102}\n",
      "18.000000 (0.050778) with: {'classifier': RandomForestClassifier(bootstrap=True, class_weight=None, criterion='gini',\n",
      "            max_depth=None, max_features='auto', max_leaf_nodes=None,\n",
      "            min_impurity_split=1e-07, min_samples_leaf=1,\n",
      "            min_samples_split=2, min_weight_fraction_leaf=0.0,\n",
      "            n_estimators=9, n_jobs=1, oob_score=False,\n",
      "            random_state=20190102, verbose=0, warm_start=False), 'classifier__n_estimators': 9, 'classifier__random_state': 20190102}\n",
      "36.000000 (0.072708) with: {'classifier': AdaBoostClassifier(algorithm='SAMME.R', base_estimator=None,\n",
      "          learning_rate=0.5, n_estimators=9, random_state=20190102), 'classifier__learning_rate': 0.001, 'classifier__n_estimators': 1, 'classifier__random_state': 20190102}\n",
      "36.000000 (0.072708) with: {'classifier': AdaBoostClassifier(algorithm='SAMME.R', base_estimator=None,\n",
      "          learning_rate=0.5, n_estimators=9, random_state=20190102), 'classifier__learning_rate': 0.001, 'classifier__n_estimators': 2, 'classifier__random_state': 20190102}\n",
      "36.000000 (0.072708) with: {'classifier': AdaBoostClassifier(algorithm='SAMME.R', base_estimator=None,\n",
      "          learning_rate=0.5, n_estimators=9, random_state=20190102), 'classifier__learning_rate': 0.001, 'classifier__n_estimators': 3, 'classifier__random_state': 20190102}\n",
      "36.000000 (0.072708) with: {'classifier': AdaBoostClassifier(algorithm='SAMME.R', base_estimator=None,\n",
      "          learning_rate=0.5, n_estimators=9, random_state=20190102), 'classifier__learning_rate': 0.001, 'classifier__n_estimators': 4, 'classifier__random_state': 20190102}\n",
      "36.000000 (0.072708) with: {'classifier': AdaBoostClassifier(algorithm='SAMME.R', base_estimator=None,\n",
      "          learning_rate=0.5, n_estimators=9, random_state=20190102), 'classifier__learning_rate': 0.001, 'classifier__n_estimators': 5, 'classifier__random_state': 20190102}\n",
      "36.000000 (0.072708) with: {'classifier': AdaBoostClassifier(algorithm='SAMME.R', base_estimator=None,\n",
      "          learning_rate=0.5, n_estimators=9, random_state=20190102), 'classifier__learning_rate': 0.001, 'classifier__n_estimators': 6, 'classifier__random_state': 20190102}\n",
      "36.000000 (0.072708) with: {'classifier': AdaBoostClassifier(algorithm='SAMME.R', base_estimator=None,\n",
      "          learning_rate=0.5, n_estimators=9, random_state=20190102), 'classifier__learning_rate': 0.001, 'classifier__n_estimators': 7, 'classifier__random_state': 20190102}\n",
      "36.000000 (0.072708) with: {'classifier': AdaBoostClassifier(algorithm='SAMME.R', base_estimator=None,\n",
      "          learning_rate=0.5, n_estimators=9, random_state=20190102), 'classifier__learning_rate': 0.001, 'classifier__n_estimators': 8, 'classifier__random_state': 20190102}\n",
      "36.000000 (0.072708) with: {'classifier': AdaBoostClassifier(algorithm='SAMME.R', base_estimator=None,\n",
      "          learning_rate=0.5, n_estimators=9, random_state=20190102), 'classifier__learning_rate': 0.001, 'classifier__n_estimators': 9, 'classifier__random_state': 20190102}\n",
      "36.000000 (0.072708) with: {'classifier': AdaBoostClassifier(algorithm='SAMME.R', base_estimator=None,\n",
      "          learning_rate=0.5, n_estimators=9, random_state=20190102), 'classifier__learning_rate': 0.01, 'classifier__n_estimators': 1, 'classifier__random_state': 20190102}\n",
      "57.000000 (0.070302) with: {'classifier': AdaBoostClassifier(algorithm='SAMME.R', base_estimator=None,\n",
      "          learning_rate=0.5, n_estimators=9, random_state=20190102), 'classifier__learning_rate': 0.01, 'classifier__n_estimators': 2, 'classifier__random_state': 20190102}\n",
      "36.000000 (0.072708) with: {'classifier': AdaBoostClassifier(algorithm='SAMME.R', base_estimator=None,\n",
      "          learning_rate=0.5, n_estimators=9, random_state=20190102), 'classifier__learning_rate': 0.01, 'classifier__n_estimators': 3, 'classifier__random_state': 20190102}\n",
      "57.000000 (0.070302) with: {'classifier': AdaBoostClassifier(algorithm='SAMME.R', base_estimator=None,\n",
      "          learning_rate=0.5, n_estimators=9, random_state=20190102), 'classifier__learning_rate': 0.01, 'classifier__n_estimators': 4, 'classifier__random_state': 20190102}\n",
      "36.000000 (0.072708) with: {'classifier': AdaBoostClassifier(algorithm='SAMME.R', base_estimator=None,\n",
      "          learning_rate=0.5, n_estimators=9, random_state=20190102), 'classifier__learning_rate': 0.01, 'classifier__n_estimators': 5, 'classifier__random_state': 20190102}\n",
      "57.000000 (0.070302) with: {'classifier': AdaBoostClassifier(algorithm='SAMME.R', base_estimator=None,\n",
      "          learning_rate=0.5, n_estimators=9, random_state=20190102), 'classifier__learning_rate': 0.01, 'classifier__n_estimators': 6, 'classifier__random_state': 20190102}\n",
      "36.000000 (0.072708) with: {'classifier': AdaBoostClassifier(algorithm='SAMME.R', base_estimator=None,\n",
      "          learning_rate=0.5, n_estimators=9, random_state=20190102), 'classifier__learning_rate': 0.01, 'classifier__n_estimators': 7, 'classifier__random_state': 20190102}\n",
      "57.000000 (0.070302) with: {'classifier': AdaBoostClassifier(algorithm='SAMME.R', base_estimator=None,\n",
      "          learning_rate=0.5, n_estimators=9, random_state=20190102), 'classifier__learning_rate': 0.01, 'classifier__n_estimators': 8, 'classifier__random_state': 20190102}\n",
      "36.000000 (0.072708) with: {'classifier': AdaBoostClassifier(algorithm='SAMME.R', base_estimator=None,\n",
      "          learning_rate=0.5, n_estimators=9, random_state=20190102), 'classifier__learning_rate': 0.01, 'classifier__n_estimators': 9, 'classifier__random_state': 20190102}\n",
      "36.000000 (0.072708) with: {'classifier': AdaBoostClassifier(algorithm='SAMME.R', base_estimator=None,\n",
      "          learning_rate=0.5, n_estimators=9, random_state=20190102), 'classifier__learning_rate': 0.05, 'classifier__n_estimators': 1, 'classifier__random_state': 20190102}\n",
      "57.000000 (0.070302) with: {'classifier': AdaBoostClassifier(algorithm='SAMME.R', base_estimator=None,\n",
      "          learning_rate=0.5, n_estimators=9, random_state=20190102), 'classifier__learning_rate': 0.05, 'classifier__n_estimators': 2, 'classifier__random_state': 20190102}\n",
      "36.000000 (0.072708) with: {'classifier': AdaBoostClassifier(algorithm='SAMME.R', base_estimator=None,\n",
      "          learning_rate=0.5, n_estimators=9, random_state=20190102), 'classifier__learning_rate': 0.05, 'classifier__n_estimators': 3, 'classifier__random_state': 20190102}\n",
      "34.000000 (0.076140) with: {'classifier': AdaBoostClassifier(algorithm='SAMME.R', base_estimator=None,\n",
      "          learning_rate=0.5, n_estimators=9, random_state=20190102), 'classifier__learning_rate': 0.05, 'classifier__n_estimators': 4, 'classifier__random_state': 20190102}\n",
      "32.000000 (0.091885) with: {'classifier': AdaBoostClassifier(algorithm='SAMME.R', base_estimator=None,\n",
      "          learning_rate=0.5, n_estimators=9, random_state=20190102), 'classifier__learning_rate': 0.05, 'classifier__n_estimators': 5, 'classifier__random_state': 20190102}\n",
      "26.000000 (0.093151) with: {'classifier': AdaBoostClassifier(algorithm='SAMME.R', base_estimator=None,\n",
      "          learning_rate=0.5, n_estimators=9, random_state=20190102), 'classifier__learning_rate': 0.05, 'classifier__n_estimators': 6, 'classifier__random_state': 20190102}\n",
      "25.000000 (0.098553) with: {'classifier': AdaBoostClassifier(algorithm='SAMME.R', base_estimator=None,\n",
      "          learning_rate=0.5, n_estimators=9, random_state=20190102), 'classifier__learning_rate': 0.05, 'classifier__n_estimators': 7, 'classifier__random_state': 20190102}\n",
      "21.000000 (0.088675) with: {'classifier': AdaBoostClassifier(algorithm='SAMME.R', base_estimator=None,\n",
      "          learning_rate=0.5, n_estimators=9, random_state=20190102), 'classifier__learning_rate': 0.05, 'classifier__n_estimators': 8, 'classifier__random_state': 20190102}\n",
      "24.000000 (0.098409) with: {'classifier': AdaBoostClassifier(algorithm='SAMME.R', base_estimator=None,\n",
      "          learning_rate=0.5, n_estimators=9, random_state=20190102), 'classifier__learning_rate': 0.05, 'classifier__n_estimators': 9, 'classifier__random_state': 20190102}\n",
      "36.000000 (0.072708) with: {'classifier': AdaBoostClassifier(algorithm='SAMME.R', base_estimator=None,\n",
      "          learning_rate=0.5, n_estimators=9, random_state=20190102), 'classifier__learning_rate': 0.1, 'classifier__n_estimators': 1, 'classifier__random_state': 20190102}\n",
      "28.000000 (0.079537) with: {'classifier': AdaBoostClassifier(algorithm='SAMME.R', base_estimator=None,\n",
      "          learning_rate=0.5, n_estimators=9, random_state=20190102), 'classifier__learning_rate': 0.1, 'classifier__n_estimators': 2, 'classifier__random_state': 20190102}\n",
      "27.000000 (0.095655) with: {'classifier': AdaBoostClassifier(algorithm='SAMME.R', base_estimator=None,\n",
      "          learning_rate=0.5, n_estimators=9, random_state=20190102), 'classifier__learning_rate': 0.1, 'classifier__n_estimators': 3, 'classifier__random_state': 20190102}\n",
      "22.000000 (0.086423) with: {'classifier': AdaBoostClassifier(algorithm='SAMME.R', base_estimator=None,\n",
      "          learning_rate=0.5, n_estimators=9, random_state=20190102), 'classifier__learning_rate': 0.1, 'classifier__n_estimators': 4, 'classifier__random_state': 20190102}\n",
      "19.000000 (0.097057) with: {'classifier': AdaBoostClassifier(algorithm='SAMME.R', base_estimator=None,\n",
      "          learning_rate=0.5, n_estimators=9, random_state=20190102), 'classifier__learning_rate': 0.1, 'classifier__n_estimators': 5, 'classifier__random_state': 20190102}\n",
      "16.000000 (0.064061) with: {'classifier': AdaBoostClassifier(algorithm='SAMME.R', base_estimator=None,\n",
      "          learning_rate=0.5, n_estimators=9, random_state=20190102), 'classifier__learning_rate': 0.1, 'classifier__n_estimators': 6, 'classifier__random_state': 20190102}\n",
      "20.000000 (0.095418) with: {'classifier': AdaBoostClassifier(algorithm='SAMME.R', base_estimator=None,\n",
      "          learning_rate=0.5, n_estimators=9, random_state=20190102), 'classifier__learning_rate': 0.1, 'classifier__n_estimators': 7, 'classifier__random_state': 20190102}\n",
      "14.000000 (0.067136) with: {'classifier': AdaBoostClassifier(algorithm='SAMME.R', base_estimator=None,\n",
      "          learning_rate=0.5, n_estimators=9, random_state=20190102), 'classifier__learning_rate': 0.1, 'classifier__n_estimators': 8, 'classifier__random_state': 20190102}\n",
      "17.000000 (0.054461) with: {'classifier': AdaBoostClassifier(algorithm='SAMME.R', base_estimator=None,\n",
      "          learning_rate=0.5, n_estimators=9, random_state=20190102), 'classifier__learning_rate': 0.1, 'classifier__n_estimators': 9, 'classifier__random_state': 20190102}\n",
      "36.000000 (0.072708) with: {'classifier': AdaBoostClassifier(algorithm='SAMME.R', base_estimator=None,\n",
      "          learning_rate=0.5, n_estimators=9, random_state=20190102), 'classifier__learning_rate': 0.5, 'classifier__n_estimators': 1, 'classifier__random_state': 20190102}\n",
      "31.000000 (0.077549) with: {'classifier': AdaBoostClassifier(algorithm='SAMME.R', base_estimator=None,\n",
      "          learning_rate=0.5, n_estimators=9, random_state=20190102), 'classifier__learning_rate': 0.5, 'classifier__n_estimators': 2, 'classifier__random_state': 20190102}\n",
      "5.000000 (0.052415) with: {'classifier': AdaBoostClassifier(algorithm='SAMME.R', base_estimator=None,\n",
      "          learning_rate=0.5, n_estimators=9, random_state=20190102), 'classifier__learning_rate': 0.5, 'classifier__n_estimators': 3, 'classifier__random_state': 20190102}\n",
      "9.000000 (0.031045) with: {'classifier': AdaBoostClassifier(algorithm='SAMME.R', base_estimator=None,\n",
      "          learning_rate=0.5, n_estimators=9, random_state=20190102), 'classifier__learning_rate': 0.5, 'classifier__n_estimators': 4, 'classifier__random_state': 20190102}\n",
      "2.000000 (0.040384) with: {'classifier': AdaBoostClassifier(algorithm='SAMME.R', base_estimator=None,\n",
      "          learning_rate=0.5, n_estimators=9, random_state=20190102), 'classifier__learning_rate': 0.5, 'classifier__n_estimators': 5, 'classifier__random_state': 20190102}\n",
      "6.000000 (0.026791) with: {'classifier': AdaBoostClassifier(algorithm='SAMME.R', base_estimator=None,\n",
      "          learning_rate=0.5, n_estimators=9, random_state=20190102), 'classifier__learning_rate': 0.5, 'classifier__n_estimators': 6, 'classifier__random_state': 20190102}\n",
      "8.000000 (0.033323) with: {'classifier': AdaBoostClassifier(algorithm='SAMME.R', base_estimator=None,\n",
      "          learning_rate=0.5, n_estimators=9, random_state=20190102), 'classifier__learning_rate': 0.5, 'classifier__n_estimators': 7, 'classifier__random_state': 20190102}\n",
      "11.000000 (0.035163) with: {'classifier': AdaBoostClassifier(algorithm='SAMME.R', base_estimator=None,\n",
      "          learning_rate=0.5, n_estimators=9, random_state=20190102), 'classifier__learning_rate': 0.5, 'classifier__n_estimators': 8, 'classifier__random_state': 20190102}\n",
      "1.000000 (0.024108) with: {'classifier': AdaBoostClassifier(algorithm='SAMME.R', base_estimator=None,\n",
      "          learning_rate=0.5, n_estimators=9, random_state=20190102), 'classifier__learning_rate': 0.5, 'classifier__n_estimators': 9, 'classifier__random_state': 20190102}\n",
      "36.000000 (0.072708) with: {'classifier': AdaBoostClassifier(algorithm='SAMME.R', base_estimator=None,\n",
      "          learning_rate=0.5, n_estimators=9, random_state=20190102), 'classifier__learning_rate': 1.0, 'classifier__n_estimators': 1, 'classifier__random_state': 20190102}\n",
      "36.000000 (0.072708) with: {'classifier': AdaBoostClassifier(algorithm='SAMME.R', base_estimator=None,\n",
      "          learning_rate=0.5, n_estimators=9, random_state=20190102), 'classifier__learning_rate': 1.0, 'classifier__n_estimators': 2, 'classifier__random_state': 20190102}\n",
      "10.000000 (0.054089) with: {'classifier': AdaBoostClassifier(algorithm='SAMME.R', base_estimator=None,\n",
      "          learning_rate=0.5, n_estimators=9, random_state=20190102), 'classifier__learning_rate': 1.0, 'classifier__n_estimators': 3, 'classifier__random_state': 20190102}\n",
      "15.000000 (0.050124) with: {'classifier': AdaBoostClassifier(algorithm='SAMME.R', base_estimator=None,\n",
      "          learning_rate=0.5, n_estimators=9, random_state=20190102), 'classifier__learning_rate': 1.0, 'classifier__n_estimators': 4, 'classifier__random_state': 20190102}\n",
      "12.000000 (0.049258) with: {'classifier': AdaBoostClassifier(algorithm='SAMME.R', base_estimator=None,\n",
      "          learning_rate=0.5, n_estimators=9, random_state=20190102), 'classifier__learning_rate': 1.0, 'classifier__n_estimators': 5, 'classifier__random_state': 20190102}\n",
      "13.000000 (0.062611) with: {'classifier': AdaBoostClassifier(algorithm='SAMME.R', base_estimator=None,\n",
      "          learning_rate=0.5, n_estimators=9, random_state=20190102), 'classifier__learning_rate': 1.0, 'classifier__n_estimators': 6, 'classifier__random_state': 20190102}\n",
      "7.000000 (0.057356) with: {'classifier': AdaBoostClassifier(algorithm='SAMME.R', base_estimator=None,\n",
      "          learning_rate=0.5, n_estimators=9, random_state=20190102), 'classifier__learning_rate': 1.0, 'classifier__n_estimators': 7, 'classifier__random_state': 20190102}\n",
      "3.000000 (0.041452) with: {'classifier': AdaBoostClassifier(algorithm='SAMME.R', base_estimator=None,\n",
      "          learning_rate=0.5, n_estimators=9, random_state=20190102), 'classifier__learning_rate': 1.0, 'classifier__n_estimators': 8, 'classifier__random_state': 20190102}\n",
      "4.000000 (0.051142) with: {'classifier': AdaBoostClassifier(algorithm='SAMME.R', base_estimator=None,\n",
      "          learning_rate=0.5, n_estimators=9, random_state=20190102), 'classifier__learning_rate': 1.0, 'classifier__n_estimators': 9, 'classifier__random_state': 20190102}\n"
     ]
    }
   ],
   "source": [
    "# summarize results\n",
    "print(\"Best: %f using %s\" % (grid_result.best_score_, grid_result.best_params_))\n",
    "means = grid_result.cv_results_['rank_test_score']\n",
    "stds = grid_result.cv_results_['std_test_score']\n",
    "params = grid_result.cv_results_['params']\n",
    "for mean, stdev, param in zip(means, stds, params):\n",
    "    print(\"%f (%f) with: %r\" % (mean, stdev, param))"
   ]
  },
  {
   "cell_type": "code",
   "execution_count": 58,
   "metadata": {
    "collapsed": false
   },
   "outputs": [
    {
     "name": "stdout",
     "output_type": "stream",
     "text": [
      "Grid search를 이용하여 구한 최적의 파라미터는 : {'classifier': AdaBoostClassifier(algorithm='SAMME.R', base_estimator=None,\n",
      "          learning_rate=0.5, n_estimators=9, random_state=20190102), 'classifier__learning_rate': 0.5, 'classifier__n_estimators': 9, 'classifier__random_state': 20190102}\n"
     ]
    }
   ],
   "source": [
    "print(\"Grid search를 이용하여 구한 최적의 파라미터는 : {}\".format(grid_result.best_params_))"
   ]
  },
  {
   "cell_type": "code",
   "execution_count": 59,
   "metadata": {
    "collapsed": false,
    "scrolled": true
   },
   "outputs": [
    {
     "data": {
      "text/plain": [
       "0.8045977011494252"
      ]
     },
     "execution_count": 59,
     "metadata": {},
     "output_type": "execute_result"
    }
   ],
   "source": [
    "grid_result.score(X_test, y_test)"
   ]
  },
  {
   "cell_type": "code",
   "execution_count": 60,
   "metadata": {
    "collapsed": false,
    "scrolled": true
   },
   "outputs": [
    {
     "name": "stdout",
     "output_type": "stream",
     "text": [
      "f1: 0.805\n",
      "recall: 0.854\n",
      "precision_score: 0.761\n"
     ]
    }
   ],
   "source": [
    "from sklearn.metrics import f1_score\n",
    "from sklearn.metrics import recall_score\n",
    "from sklearn.metrics import precision_score\n",
    "pred = grid_result.predict(X_test)\n",
    "\n",
    "print(\"f1: {:.3f}\".format(f1_score(y_test, pred)))\n",
    "print(\"recall: {:.3f}\".format(recall_score(y_test, pred)))\n",
    "print(\"precision_score: {:.3f}\".format(precision_score(y_test, pred)))"
   ]
  },
  {
   "cell_type": "code",
   "execution_count": 61,
   "metadata": {
    "collapsed": false
   },
   "outputs": [
    {
     "name": "stdout",
     "output_type": "stream",
     "text": [
      "오차 행렬:\n",
      "[[24 11]\n",
      " [ 6 35]]\n"
     ]
    }
   ],
   "source": [
    "from sklearn.metrics import confusion_matrix\n",
    "\n",
    "confusion = confusion_matrix(y_test, pred)\n",
    "print(\"오차 행렬:\\n{}\".format(confusion))"
   ]
  },
  {
   "cell_type": "code",
   "execution_count": 62,
   "metadata": {
    "collapsed": false,
    "scrolled": true
   },
   "outputs": [
    {
     "data": {
      "image/png": "[encoded data removed]",
      "text/plain": [
       "<matplotlib.figure.Figure at 0x1b6d60df5c0>"
      ]
     },
     "metadata": {},
     "output_type": "display_data"
    }
   ],
   "source": [
    "import matplotlib.pyplot as plt\n",
    "import seaborn as sns\n",
    "plt.figure(figsize=(5, 5))\n",
    "sns.heatmap(confusion, annot=True, fmt=\"d\")\n",
    "plt.xticks([.5, 1.5], [\"predicted '0'\", \"predicted '1'\"], size=10)\n",
    "plt.yticks([.5, 1.5], [\"true '1'\", \"true '0'\"], size=10)\n",
    "plt.show()"
   ]
  },
  {
   "cell_type": "markdown",
   "metadata": {},
   "source": [
    "오차 행렬을 보면 진양성은 35, 진음성은 24, 위양성은 11, 위음성이 6이다. \n",
    "심장환자 41명중 35명을 분류하였으나, 11명을 정상인으로 잘 못 분류하였다."
   ]
  },
  {
   "cell_type": "code",
   "execution_count": null,
   "metadata": {
    "collapsed": true
   },
   "outputs": [],
   "source": []
  }
 ],
 "metadata": {
  "kernelspec": {
   "display_name": "Python 3",
   "language": "python",
   "name": "python3"
  },
  "language_info": {
   "codemirror_mode": {
    "name": "ipython",
    "version": 3
   },
   "file_extension": ".py",
   "mimetype": "text/x-python",
   "name": "python",
   "nbconvert_exporter": "python",
   "pygments_lexer": "ipython3",
   "version": "3.6.0"
  }
 },
 "nbformat": 4,
 "nbformat_minor": 2
}
