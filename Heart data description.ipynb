{
 "cells": [
  {
   "cell_type": "markdown",
   "metadata": {},
   "source": [
    "# 심장병 데이터 셋\n",
    "---\n",
    "https://www.kaggle.com/ronitf/heart-disease-uci\n",
    "\n",
    "https://archive.ics.uci.edu/ml/datasets/Heart+Disease\n",
    "\n",
    "UCI dataset의 심장병 자료 4개 중 클리브랜드 데이터셋이며 현재까지 사용되는 데이터이다. \n",
    "\n",
    "features name | description | type | values\n",
    "---|---|---\n",
    "age| 나이 | 구간-비율 | \n",
    "sex| 성별 | 명목 | 1 = 남성, 0 = 여성\n",
    "cp| 흉통유형,  | 명목 | 1=정형 협심증 통증, 2=비정형 협심증 통증, 3=비협심증 통증(협심증 관련통증 아님), 4=무증상\n",
    "trestbps | 휴식 시 혈압 | 비율 | mm Hg\n",
    "chol| 총콜레스테롤 | 비율 | mg/dl\n",
    "fbs| 공복시 혈당(>120 mg/dl) | 명목 | 1 = true; 0 = false\n",
    "restecg| 심전도 결과 | 명목 | 0=정상 , 1=이상 있음\n",
    "thalach| 최대 심박수 | 비율 |\n",
    "exang| 운동형 협심증 여부| 명목 |  1 = Yes 0 = No\n",
    "oldpeak | 휴식 대비 운동시 ST depression 정도 | 비율 |\n",
    "slope | ST segment의 경사 | 명목 | 1=상승, 2=안정, 3=하강\n",
    "ca| 채색된 주요 혈관수 | 구간 | 0~3개, 1케이스는 4로 코딩되어 있음\n",
    "thal| 결손 | 명목 | 1 = normal; 2 = fixed defect; 3 = reversable defect \n",
    "target| 심장병 여부 | 명목 | 0=정상, 1=심장병"
   ]
  },
  {
   "cell_type": "markdown",
   "metadata": {},
   "source": [
    "### 주요 Feature에 대한 설명\n",
    "---\n",
    "#### 흉통(chest pain)\n",
    " - 흉통은 가슴부위의 심장, 식도, 갈비뼈 등에서 통증이 발생하지만, 협심증이나 심근경색 등 심장질환의 중요한 초기증상이다.관상동맥이 좁아져 심장근육으로 가는 혈액 양이 심장이 필요한 양보다 부족하게 되면서 가슴을 죄는듯한 통증이 발생하게 된다.\n",
    "보통 수분 동안 지속되고 부위는 흉골 하부가 흔하며 턱이나 상복부로 흉통이 전도된다. 또한 운동이나 활동에 의해서 흉통이 유발되며 쉬면 사라지는 것이 보통이고 니트로글리세린에 투여시 30초에서 수분 이내 증상이 소실된다. \n",
    "\n",
    "    가. 특징적인 양상 및 기간 동안 흉골 하부의 통증\n",
    "    나. 운동시나 정신적 스트레스에 의해 유발\n",
    "    다. 니트로글리세린에 의해 호전\n",
    "\n",
    "    1. 정형적인 협심증 통증 : 가, 나, 다 세가지 모두\n",
    "    2. 비정형 협심증 통증 : 두가지\n",
    "    3. 비협심증 통증: 세가지에 해당되지 안는 통증\n",
    "    4. 무증상 : 흉통 없음\n",
    "\n",
    " - 니트로글리세린이란 협심증의 치료에 사용되는 약으로 혈관을 확장시켜 심장의 근육에 산소와 혈류공급을 증가시켜 심장의 통증을 줄여주고 혈류를 증가시켜 심장의 부담을 줄이게 하는 효과가 있는 약이다."
   ]
  },
  {
   "cell_type": "markdown",
   "metadata": {},
   "source": [
    "#### 심전도\n",
    "---\n",
    " - 심전도(electrocardiogram, ECG, Elektrokardiogramm, EKG)는 정해진 시간에 심장의 전기적 활동(리듬)을 해석하는 것이다. \n",
    " - 심장병 자료에서는 ST segment에 대한 특징만 포함되어 있으므로 ST segment만 설명한다.\n",
    " - ST 분절(segment)는 심실 탈분극 후 재분극이 나타나기 전까지의 전기적인 침묵시간으로 TP 절을 기준으로 상승이나 하강을 판정\n",
    " - 분극이란 세포의 안이 음(-), 밖이 양(+)전하를 띄는 상태이며, 탈분극(depolarization)은 전기자극을 받아 세포의 안과 밖의 전하가 바뀌는 상태\n",
    "    \n",
    " - oldpeak : 휴식 대비 운동시 ST depression 정도\n",
    " - slope : ST 분절의 경사\n",
    "\n",
    " - 운동부하 심전도상 양성 소견은 수평적인 혹은 내림경사 곡선을 그리는 1 mm 이상의 ST분절 하강 또는 오름경사곡선을 그리는 ST분절 상승이 1.5mm 이상인 경우 양성 소견으로 판정한다\n",
    "\n",
    "![심전도](SinusRhythmLabels1.png)"
   ]
  },
  {
   "cell_type": "markdown",
   "metadata": {},
   "source": [
    "#### 운동부하검사(exercise stress testing, EKG)\n",
    "---\n",
    " - 운동부하검사는 영상진단검사를 하지 않은 경우 관상동맥진단을 위한 초기 검사이다. \n",
    "\n",
    "![운동부하검사](MedGraphics.jpg)"
   ]
  },
  {
   "cell_type": "markdown",
   "metadata": {},
   "source": [
    "#### 관상동맥(coronary artery)\n",
    " - 심장의 근육(심근)에 혈류를 공급하는 동맥들이다.\n",
    " - 관상동맥은 우(右)관상동맥(RCA)과 좌(左)관상동맥(LCA)이 둘로 나뉘어 이루어진 좌전하행지(LAD)와 좌선회관상동맥(LCx)의 크게 3가지로 나뉜다.\n",
    " \n",
    "![관상동맥](관상동맥.jpg)\n",
    "\n",
    " - 관상동맥질환이란 관상동맥 혈관 안쪽에 소위 '기름기'가 끼어서 혈관이 좁아지고 딱딱해지는 질환으로 소위 동맥경화라고 부르며 관상동맥에 경화가 발생하면 협심증과 심근경색이 된다. \n"
   ]
  },
  {
   "cell_type": "markdown",
   "metadata": {},
   "source": [
    "#### 혈관조영술\n",
    " - 혈관 내로 카테터를 삽입하여 조영제를 주입한 후 X-선 촬영을 시행하여 혈관의 구조와 비정상적인 병변을 확인할 수 있는 검사이다\n",
    "![혈관조영술](혈관조영술.png)\n",
    "\n",
    " -ca : 관상동맥의 채색된 혈관 수 \n",
    " \n",
    " -thal : 정상과 고정결손, 되돌릴 수 있는 결손으로 구분, 결손이랑 혈관의 벽에에 구멍이 난 경우를 말한다.\n"
   ]
  },
  {
   "cell_type": "code",
   "execution_count": null,
   "metadata": {},
   "outputs": [],
   "source": []
  },
  {
   "cell_type": "code",
   "execution_count": null,
   "metadata": {},
   "outputs": [],
   "source": []
  }
 ],
 "metadata": {
  "kernelspec": {
   "display_name": "Python 3",
   "language": "python",
   "name": "python3"
  },
  "language_info": {
   "codemirror_mode": {
    "name": "ipython",
    "version": 3
   },
   "file_extension": ".py",
   "mimetype": "text/x-python",
   "name": "python",
   "nbconvert_exporter": "python",
   "pygments_lexer": "ipython3",
   "version": "3.6.4"
  }
 },
 "nbformat": 4,
 "nbformat_minor": 2
}
