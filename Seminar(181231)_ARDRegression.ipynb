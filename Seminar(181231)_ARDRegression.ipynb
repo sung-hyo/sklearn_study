{
 "cells": [
  {
   "cell_type": "code",
   "execution_count": 1,
   "metadata": {
    "colab": {
     "base_uri": "https://localhost:8080/",
     "height": 219
    },
    "colab_type": "code",
    "id": "qad_IpsfggXS",
    "outputId": "c248d5cc-c696-441f-ce79-f0b210f82e98"
   },
   "outputs": [],
   "source": [
    "#!pip install pydrive"
   ]
  },
  {
   "cell_type": "code",
   "execution_count": 2,
   "metadata": {
    "colab": {},
    "colab_type": "code",
    "id": "HOWxnFXCbLzz"
   },
   "outputs": [],
   "source": [
    "#from pydrive.auth import GoogleAuth\n",
    "#from pydrive.drive import GoogleDrive\n",
    "#from google.colab import auth\n",
    "#from oauth2client.client import GoogleCredentials "
   ]
  },
  {
   "cell_type": "code",
   "execution_count": 3,
   "metadata": {
    "colab": {},
    "colab_type": "code",
    "id": "wtBn_7p9chsO"
   },
   "outputs": [],
   "source": [
    "# 1. Authenticate and create the PyDrive client.\n",
    "\n",
    "#auth.authenticate_user()\n",
    "#gauth = GoogleAuth()\n",
    "#gauth.credentials = GoogleCredentials.get_application_default()\n",
    "#drive = GoogleDrive(gauth)\n",
    "#file_id = '1vmNjaOxUU-hH-O7_5_iElFQhAZvt8ESS'\n",
    "#downloaded = drive.CreateFile({'id': file_id})\n",
    "#downloaded.GetContentFile('grip_str.sas7bdat')"
   ]
  },
  {
   "cell_type": "code",
   "execution_count": 4,
   "metadata": {
    "colab": {},
    "colab_type": "code",
    "id": "UQqfYxgmwdKb"
   },
   "outputs": [],
   "source": [
    "# 자료 불러오기\n",
    "import pandas as pd\n",
    "dt_grip = pd.read_sas(\"grip_str.sas7bdat\", format=\"sas7bdat\").dropna() "
   ]
  },
  {
   "cell_type": "code",
   "execution_count": 5,
   "metadata": {
    "colab": {
     "base_uri": "https://localhost:8080/",
     "height": 35
    },
    "colab_type": "code",
    "id": "S9s21YiSwfWd",
    "outputId": "d3537c17-5a37-4d9e-fde3-7421a5759b9a"
   },
   "outputs": [
    {
     "data": {
      "text/plain": [
       "(11323, 48)"
      ]
     },
     "execution_count": 5,
     "metadata": {},
     "output_type": "execute_result"
    }
   ],
   "source": [
    "dt_grip.shape"
   ]
  },
  {
   "cell_type": "code",
   "execution_count": 6,
   "metadata": {
    "colab": {
     "base_uri": "https://localhost:8080/",
     "height": 247
    },
    "colab_type": "code",
    "id": "xIluRl3i3loi",
    "outputId": "4379f413-7688-4a23-e8ee-be5feac19e97"
   },
   "outputs": [
    {
     "data": {
      "text/html": [
       "<div>\n",
       "<style scoped>\n",
       "    .dataframe tbody tr th:only-of-type {\n",
       "        vertical-align: middle;\n",
       "    }\n",
       "\n",
       "    .dataframe tbody tr th {\n",
       "        vertical-align: top;\n",
       "    }\n",
       "\n",
       "    .dataframe thead th {\n",
       "        text-align: right;\n",
       "    }\n",
       "</style>\n",
       "<table border=\"1\" class=\"dataframe\">\n",
       "  <thead>\n",
       "    <tr style=\"text-align: right;\">\n",
       "      <th></th>\n",
       "      <th>ID</th>\n",
       "      <th>sex</th>\n",
       "      <th>age</th>\n",
       "      <th>ho_incm</th>\n",
       "      <th>edu</th>\n",
       "      <th>occp</th>\n",
       "      <th>marri_1</th>\n",
       "      <th>sm_presnt</th>\n",
       "      <th>dr_high</th>\n",
       "      <th>pa_aerobic</th>\n",
       "      <th>...</th>\n",
       "      <th>N_K</th>\n",
       "      <th>N_VA</th>\n",
       "      <th>N_CAROT</th>\n",
       "      <th>N_RETIN</th>\n",
       "      <th>N_B1</th>\n",
       "      <th>N_B2</th>\n",
       "      <th>N_NIAC</th>\n",
       "      <th>N_VITC</th>\n",
       "      <th>max_grip_rt</th>\n",
       "      <th>max_grip_lt</th>\n",
       "    </tr>\n",
       "  </thead>\n",
       "  <tbody>\n",
       "    <tr>\n",
       "      <th>0</th>\n",
       "      <td>b'A209716213'</td>\n",
       "      <td>2.0</td>\n",
       "      <td>30.0</td>\n",
       "      <td>3.0</td>\n",
       "      <td>4.0</td>\n",
       "      <td>7.0</td>\n",
       "      <td>2.0</td>\n",
       "      <td>0.0</td>\n",
       "      <td>0.0</td>\n",
       "      <td>1.0</td>\n",
       "      <td>...</td>\n",
       "      <td>3035.899499</td>\n",
       "      <td>1335.998584</td>\n",
       "      <td>7476.633795</td>\n",
       "      <td>88.505252</td>\n",
       "      <td>2.524458</td>\n",
       "      <td>1.702372</td>\n",
       "      <td>13.792368</td>\n",
       "      <td>69.967986</td>\n",
       "      <td>28.4</td>\n",
       "      <td>26.4</td>\n",
       "    </tr>\n",
       "    <tr>\n",
       "      <th>2</th>\n",
       "      <td>b'A209716216'</td>\n",
       "      <td>1.0</td>\n",
       "      <td>29.0</td>\n",
       "      <td>3.0</td>\n",
       "      <td>4.0</td>\n",
       "      <td>7.0</td>\n",
       "      <td>2.0</td>\n",
       "      <td>0.0</td>\n",
       "      <td>0.0</td>\n",
       "      <td>1.0</td>\n",
       "      <td>...</td>\n",
       "      <td>5018.153615</td>\n",
       "      <td>2181.289291</td>\n",
       "      <td>11339.248496</td>\n",
       "      <td>291.693538</td>\n",
       "      <td>3.853337</td>\n",
       "      <td>3.065095</td>\n",
       "      <td>22.947486</td>\n",
       "      <td>65.287764</td>\n",
       "      <td>50.6</td>\n",
       "      <td>47.8</td>\n",
       "    </tr>\n",
       "    <tr>\n",
       "      <th>3</th>\n",
       "      <td>b'A209724716'</td>\n",
       "      <td>1.0</td>\n",
       "      <td>65.0</td>\n",
       "      <td>1.0</td>\n",
       "      <td>1.0</td>\n",
       "      <td>3.0</td>\n",
       "      <td>1.0</td>\n",
       "      <td>1.0</td>\n",
       "      <td>0.0</td>\n",
       "      <td>1.0</td>\n",
       "      <td>...</td>\n",
       "      <td>1952.808521</td>\n",
       "      <td>452.073639</td>\n",
       "      <td>2102.115596</td>\n",
       "      <td>100.982500</td>\n",
       "      <td>1.164780</td>\n",
       "      <td>1.098967</td>\n",
       "      <td>11.789950</td>\n",
       "      <td>43.467542</td>\n",
       "      <td>33.1</td>\n",
       "      <td>33.6</td>\n",
       "    </tr>\n",
       "    <tr>\n",
       "      <th>4</th>\n",
       "      <td>b'A209731516'</td>\n",
       "      <td>1.0</td>\n",
       "      <td>66.0</td>\n",
       "      <td>2.0</td>\n",
       "      <td>4.0</td>\n",
       "      <td>7.0</td>\n",
       "      <td>1.0</td>\n",
       "      <td>0.0</td>\n",
       "      <td>0.0</td>\n",
       "      <td>1.0</td>\n",
       "      <td>...</td>\n",
       "      <td>2339.124348</td>\n",
       "      <td>854.972445</td>\n",
       "      <td>4817.173801</td>\n",
       "      <td>51.367319</td>\n",
       "      <td>1.015765</td>\n",
       "      <td>0.579514</td>\n",
       "      <td>10.199538</td>\n",
       "      <td>56.882524</td>\n",
       "      <td>36.5</td>\n",
       "      <td>35.4</td>\n",
       "    </tr>\n",
       "    <tr>\n",
       "      <th>6</th>\n",
       "      <td>b'A209736615'</td>\n",
       "      <td>2.0</td>\n",
       "      <td>41.0</td>\n",
       "      <td>3.0</td>\n",
       "      <td>3.0</td>\n",
       "      <td>7.0</td>\n",
       "      <td>1.0</td>\n",
       "      <td>0.0</td>\n",
       "      <td>1.0</td>\n",
       "      <td>1.0</td>\n",
       "      <td>...</td>\n",
       "      <td>2214.850076</td>\n",
       "      <td>276.389343</td>\n",
       "      <td>1509.860228</td>\n",
       "      <td>19.627705</td>\n",
       "      <td>0.932423</td>\n",
       "      <td>0.742740</td>\n",
       "      <td>16.719703</td>\n",
       "      <td>146.408221</td>\n",
       "      <td>31.7</td>\n",
       "      <td>29.6</td>\n",
       "    </tr>\n",
       "  </tbody>\n",
       "</table>\n",
       "<p>5 rows × 48 columns</p>\n",
       "</div>"
      ],
      "text/plain": [
       "              ID  sex   age  ho_incm  edu  occp  marri_1  sm_presnt  dr_high  \\\n",
       "0  b'A209716213'  2.0  30.0      3.0  4.0   7.0      2.0        0.0      0.0   \n",
       "2  b'A209716216'  1.0  29.0      3.0  4.0   7.0      2.0        0.0      0.0   \n",
       "3  b'A209724716'  1.0  65.0      1.0  1.0   3.0      1.0        1.0      0.0   \n",
       "4  b'A209731516'  1.0  66.0      2.0  4.0   7.0      1.0        0.0      0.0   \n",
       "6  b'A209736615'  2.0  41.0      3.0  3.0   7.0      1.0        0.0      1.0   \n",
       "\n",
       "   pa_aerobic     ...               N_K         N_VA       N_CAROT  \\\n",
       "0         1.0     ...       3035.899499  1335.998584   7476.633795   \n",
       "2         1.0     ...       5018.153615  2181.289291  11339.248496   \n",
       "3         1.0     ...       1952.808521   452.073639   2102.115596   \n",
       "4         1.0     ...       2339.124348   854.972445   4817.173801   \n",
       "6         1.0     ...       2214.850076   276.389343   1509.860228   \n",
       "\n",
       "      N_RETIN      N_B1      N_B2     N_NIAC      N_VITC  max_grip_rt  \\\n",
       "0   88.505252  2.524458  1.702372  13.792368   69.967986         28.4   \n",
       "2  291.693538  3.853337  3.065095  22.947486   65.287764         50.6   \n",
       "3  100.982500  1.164780  1.098967  11.789950   43.467542         33.1   \n",
       "4   51.367319  1.015765  0.579514  10.199538   56.882524         36.5   \n",
       "6   19.627705  0.932423  0.742740  16.719703  146.408221         31.7   \n",
       "\n",
       "   max_grip_lt  \n",
       "0         26.4  \n",
       "2         47.8  \n",
       "3         33.6  \n",
       "4         35.4  \n",
       "6         29.6  \n",
       "\n",
       "[5 rows x 48 columns]"
      ]
     },
     "execution_count": 6,
     "metadata": {},
     "output_type": "execute_result"
    }
   ],
   "source": [
    "dt_grip.head()"
   ]
  },
  {
   "cell_type": "code",
   "execution_count": 7,
   "metadata": {
    "colab": {},
    "colab_type": "code",
    "id": "GWL340kDhmXH"
   },
   "outputs": [],
   "source": [
    "# 원본파일을 복사하여 사용, 원자료는 조작하지 않는다\n",
    "dt = dt_grip.copy()\n",
    "\n",
    "# index와 동일한 ID 변수 삭제\n",
    "dt = dt.drop(columns = ['ID'], axis = 1)"
   ]
  },
  {
   "cell_type": "code",
   "execution_count": 8,
   "metadata": {
    "colab": {},
    "colab_type": "code",
    "id": "FyGoeOWskhsx"
   },
   "outputs": [],
   "source": [
    "## 변수 속성 변경\n",
    "features_nm_list = [dt.columns]\n",
    "cat_features_nm_list = ['sex', 'ho_incm', 'edu', 'occp', 'marri_1', 'sm_presnt', 'dr_high', 'pa_aerobic', 'pa_walk', 'pa_muscle']\n",
    "num_features_nm_list = ['age', 'HE_ht', 'HE_wt', 'HE_wc', 'HE_BMI', 'HE_HP', 'HE_DM',\n",
    "        'HE_HCHOL', 'GS_use', 'N_WAT_C', 'N_INTK', 'N_EN', 'N_WATER', 'N_PROT',\n",
    "        'N_FAT', 'N_SFA', 'N_MUFA', 'N_PUFA', 'N_N3', 'N_N6', 'N_chol', 'N_CHO',\n",
    "        'N_tdf', 'N_CA', 'N_PHOS', 'N_FE', 'N_NA', 'N_K', 'N_VA', 'N_CAROT',\n",
    "        'N_RETIN', 'N_B1', 'N_B2', 'N_NIAC', 'N_VITC']\n",
    "\n",
    "#카테고리 변수 속성변경\n",
    "for i in cat_features_nm_list:\n",
    "    dt[i]=pd.Categorical(dt[i])\n",
    "\n",
    "#정수형 속성 변경 \n",
    "dt['age']= dt['age'].astype('int64')"
   ]
  },
  {
   "cell_type": "code",
   "execution_count": 9,
   "metadata": {},
   "outputs": [
    {
     "data": {
      "text/plain": [
       "35"
      ]
     },
     "execution_count": 9,
     "metadata": {},
     "output_type": "execute_result"
    }
   ],
   "source": [
    "len(num_features_nm_list)"
   ]
  },
  {
   "cell_type": "code",
   "execution_count": 10,
   "metadata": {
    "colab": {},
    "colab_type": "code",
    "id": "41woOSZSZydo"
   },
   "outputs": [],
   "source": [
    "# Target 컬럼 생성 - 왼손 악력과 오른손 악력 중 최대값을 타겟으로 한다.\n",
    "target_dt = dt[['max_grip_rt', 'max_grip_lt']].max(axis = 1)\n",
    "features_dt = dt.drop(columns = ['max_grip_rt', 'max_grip_lt'], axis = 1)"
   ]
  },
  {
   "cell_type": "code",
   "execution_count": 11,
   "metadata": {
    "colab": {
     "base_uri": "https://localhost:8080/",
     "height": 126
    },
    "colab_type": "code",
    "id": "2pY7i02W-LAu",
    "outputId": "76a72999-f513-4217-cdac-3ee05d8db9b0",
    "scrolled": false
   },
   "outputs": [
    {
     "data": {
      "text/plain": [
       "0    28.4\n",
       "2    50.6\n",
       "3    33.6\n",
       "4    36.5\n",
       "6    31.7\n",
       "dtype: float64"
      ]
     },
     "execution_count": 11,
     "metadata": {},
     "output_type": "execute_result"
    }
   ],
   "source": [
    "target_dt.head()"
   ]
  },
  {
   "cell_type": "code",
   "execution_count": 12,
   "metadata": {},
   "outputs": [
    {
     "data": {
      "text/html": [
       "<div>\n",
       "<style scoped>\n",
       "    .dataframe tbody tr th:only-of-type {\n",
       "        vertical-align: middle;\n",
       "    }\n",
       "\n",
       "    .dataframe tbody tr th {\n",
       "        vertical-align: top;\n",
       "    }\n",
       "\n",
       "    .dataframe thead th {\n",
       "        text-align: right;\n",
       "    }\n",
       "</style>\n",
       "<table border=\"1\" class=\"dataframe\">\n",
       "  <thead>\n",
       "    <tr style=\"text-align: right;\">\n",
       "      <th></th>\n",
       "      <th>sex</th>\n",
       "      <th>age</th>\n",
       "      <th>ho_incm</th>\n",
       "      <th>edu</th>\n",
       "      <th>occp</th>\n",
       "      <th>marri_1</th>\n",
       "      <th>sm_presnt</th>\n",
       "      <th>dr_high</th>\n",
       "      <th>pa_aerobic</th>\n",
       "      <th>pa_walk</th>\n",
       "      <th>...</th>\n",
       "      <th>N_FE</th>\n",
       "      <th>N_NA</th>\n",
       "      <th>N_K</th>\n",
       "      <th>N_VA</th>\n",
       "      <th>N_CAROT</th>\n",
       "      <th>N_RETIN</th>\n",
       "      <th>N_B1</th>\n",
       "      <th>N_B2</th>\n",
       "      <th>N_NIAC</th>\n",
       "      <th>N_VITC</th>\n",
       "    </tr>\n",
       "  </thead>\n",
       "  <tbody>\n",
       "    <tr>\n",
       "      <th>0</th>\n",
       "      <td>2.0</td>\n",
       "      <td>30</td>\n",
       "      <td>3.0</td>\n",
       "      <td>4.0</td>\n",
       "      <td>7.0</td>\n",
       "      <td>2.0</td>\n",
       "      <td>0.0</td>\n",
       "      <td>0.0</td>\n",
       "      <td>1.0</td>\n",
       "      <td>0.0</td>\n",
       "      <td>...</td>\n",
       "      <td>14.020208</td>\n",
       "      <td>3812.602629</td>\n",
       "      <td>3035.899499</td>\n",
       "      <td>1335.998584</td>\n",
       "      <td>7476.633795</td>\n",
       "      <td>88.505252</td>\n",
       "      <td>2.524458</td>\n",
       "      <td>1.702372</td>\n",
       "      <td>13.792368</td>\n",
       "      <td>69.967986</td>\n",
       "    </tr>\n",
       "    <tr>\n",
       "      <th>2</th>\n",
       "      <td>1.0</td>\n",
       "      <td>29</td>\n",
       "      <td>3.0</td>\n",
       "      <td>4.0</td>\n",
       "      <td>7.0</td>\n",
       "      <td>2.0</td>\n",
       "      <td>0.0</td>\n",
       "      <td>0.0</td>\n",
       "      <td>1.0</td>\n",
       "      <td>1.0</td>\n",
       "      <td>...</td>\n",
       "      <td>28.731917</td>\n",
       "      <td>7064.860766</td>\n",
       "      <td>5018.153615</td>\n",
       "      <td>2181.289291</td>\n",
       "      <td>11339.248496</td>\n",
       "      <td>291.693538</td>\n",
       "      <td>3.853337</td>\n",
       "      <td>3.065095</td>\n",
       "      <td>22.947486</td>\n",
       "      <td>65.287764</td>\n",
       "    </tr>\n",
       "    <tr>\n",
       "      <th>3</th>\n",
       "      <td>1.0</td>\n",
       "      <td>65</td>\n",
       "      <td>1.0</td>\n",
       "      <td>1.0</td>\n",
       "      <td>3.0</td>\n",
       "      <td>1.0</td>\n",
       "      <td>1.0</td>\n",
       "      <td>0.0</td>\n",
       "      <td>1.0</td>\n",
       "      <td>1.0</td>\n",
       "      <td>...</td>\n",
       "      <td>11.974037</td>\n",
       "      <td>1894.033626</td>\n",
       "      <td>1952.808521</td>\n",
       "      <td>452.073639</td>\n",
       "      <td>2102.115596</td>\n",
       "      <td>100.982500</td>\n",
       "      <td>1.164780</td>\n",
       "      <td>1.098967</td>\n",
       "      <td>11.789950</td>\n",
       "      <td>43.467542</td>\n",
       "    </tr>\n",
       "    <tr>\n",
       "      <th>4</th>\n",
       "      <td>1.0</td>\n",
       "      <td>66</td>\n",
       "      <td>2.0</td>\n",
       "      <td>4.0</td>\n",
       "      <td>7.0</td>\n",
       "      <td>1.0</td>\n",
       "      <td>0.0</td>\n",
       "      <td>0.0</td>\n",
       "      <td>1.0</td>\n",
       "      <td>0.0</td>\n",
       "      <td>...</td>\n",
       "      <td>6.532706</td>\n",
       "      <td>885.990579</td>\n",
       "      <td>2339.124348</td>\n",
       "      <td>854.972445</td>\n",
       "      <td>4817.173801</td>\n",
       "      <td>51.367319</td>\n",
       "      <td>1.015765</td>\n",
       "      <td>0.579514</td>\n",
       "      <td>10.199538</td>\n",
       "      <td>56.882524</td>\n",
       "    </tr>\n",
       "    <tr>\n",
       "      <th>6</th>\n",
       "      <td>2.0</td>\n",
       "      <td>41</td>\n",
       "      <td>3.0</td>\n",
       "      <td>3.0</td>\n",
       "      <td>7.0</td>\n",
       "      <td>1.0</td>\n",
       "      <td>0.0</td>\n",
       "      <td>1.0</td>\n",
       "      <td>1.0</td>\n",
       "      <td>1.0</td>\n",
       "      <td>...</td>\n",
       "      <td>7.797968</td>\n",
       "      <td>2023.504797</td>\n",
       "      <td>2214.850076</td>\n",
       "      <td>276.389343</td>\n",
       "      <td>1509.860228</td>\n",
       "      <td>19.627705</td>\n",
       "      <td>0.932423</td>\n",
       "      <td>0.742740</td>\n",
       "      <td>16.719703</td>\n",
       "      <td>146.408221</td>\n",
       "    </tr>\n",
       "  </tbody>\n",
       "</table>\n",
       "<p>5 rows × 45 columns</p>\n",
       "</div>"
      ],
      "text/plain": [
       "   sex  age ho_incm  edu occp marri_1 sm_presnt dr_high pa_aerobic pa_walk  \\\n",
       "0  2.0   30     3.0  4.0  7.0     2.0       0.0     0.0        1.0     0.0   \n",
       "2  1.0   29     3.0  4.0  7.0     2.0       0.0     0.0        1.0     1.0   \n",
       "3  1.0   65     1.0  1.0  3.0     1.0       1.0     0.0        1.0     1.0   \n",
       "4  1.0   66     2.0  4.0  7.0     1.0       0.0     0.0        1.0     0.0   \n",
       "6  2.0   41     3.0  3.0  7.0     1.0       0.0     1.0        1.0     1.0   \n",
       "\n",
       "      ...           N_FE         N_NA          N_K         N_VA       N_CAROT  \\\n",
       "0     ...      14.020208  3812.602629  3035.899499  1335.998584   7476.633795   \n",
       "2     ...      28.731917  7064.860766  5018.153615  2181.289291  11339.248496   \n",
       "3     ...      11.974037  1894.033626  1952.808521   452.073639   2102.115596   \n",
       "4     ...       6.532706   885.990579  2339.124348   854.972445   4817.173801   \n",
       "6     ...       7.797968  2023.504797  2214.850076   276.389343   1509.860228   \n",
       "\n",
       "      N_RETIN      N_B1      N_B2     N_NIAC      N_VITC  \n",
       "0   88.505252  2.524458  1.702372  13.792368   69.967986  \n",
       "2  291.693538  3.853337  3.065095  22.947486   65.287764  \n",
       "3  100.982500  1.164780  1.098967  11.789950   43.467542  \n",
       "4   51.367319  1.015765  0.579514  10.199538   56.882524  \n",
       "6   19.627705  0.932423  0.742740  16.719703  146.408221  \n",
       "\n",
       "[5 rows x 45 columns]"
      ]
     },
     "execution_count": 12,
     "metadata": {},
     "output_type": "execute_result"
    }
   ],
   "source": [
    "features_dt.head()"
   ]
  },
  {
   "cell_type": "code",
   "execution_count": 13,
   "metadata": {},
   "outputs": [
    {
     "data": {
      "text/html": [
       "<div>\n",
       "<style scoped>\n",
       "    .dataframe tbody tr th:only-of-type {\n",
       "        vertical-align: middle;\n",
       "    }\n",
       "\n",
       "    .dataframe tbody tr th {\n",
       "        vertical-align: top;\n",
       "    }\n",
       "\n",
       "    .dataframe thead th {\n",
       "        text-align: right;\n",
       "    }\n",
       "</style>\n",
       "<table border=\"1\" class=\"dataframe\">\n",
       "  <thead>\n",
       "    <tr style=\"text-align: right;\">\n",
       "      <th></th>\n",
       "      <th>age</th>\n",
       "      <th>HE_ht</th>\n",
       "      <th>HE_wt</th>\n",
       "      <th>HE_wc</th>\n",
       "      <th>HE_BMI</th>\n",
       "      <th>HE_HP</th>\n",
       "      <th>HE_DM</th>\n",
       "      <th>HE_HCHOL</th>\n",
       "      <th>GS_use</th>\n",
       "      <th>N_WAT_C</th>\n",
       "      <th>...</th>\n",
       "      <th>N_FE</th>\n",
       "      <th>N_NA</th>\n",
       "      <th>N_K</th>\n",
       "      <th>N_VA</th>\n",
       "      <th>N_CAROT</th>\n",
       "      <th>N_RETIN</th>\n",
       "      <th>N_B1</th>\n",
       "      <th>N_B2</th>\n",
       "      <th>N_NIAC</th>\n",
       "      <th>N_VITC</th>\n",
       "    </tr>\n",
       "  </thead>\n",
       "  <tbody>\n",
       "    <tr>\n",
       "      <th>count</th>\n",
       "      <td>11323.000000</td>\n",
       "      <td>11323.000000</td>\n",
       "      <td>11323.000000</td>\n",
       "      <td>11323.000000</td>\n",
       "      <td>11323.000000</td>\n",
       "      <td>11323.000000</td>\n",
       "      <td>11323.000000</td>\n",
       "      <td>11323.00000</td>\n",
       "      <td>11323.000000</td>\n",
       "      <td>11323.000000</td>\n",
       "      <td>...</td>\n",
       "      <td>11323.000000</td>\n",
       "      <td>11323.000000</td>\n",
       "      <td>11323.000000</td>\n",
       "      <td>11323.000000</td>\n",
       "      <td>11323.000000</td>\n",
       "      <td>11323.000000</td>\n",
       "      <td>11323.000000</td>\n",
       "      <td>11323.000000</td>\n",
       "      <td>11323.000000</td>\n",
       "      <td>11323.000000</td>\n",
       "    </tr>\n",
       "    <tr>\n",
       "      <th>mean</th>\n",
       "      <td>50.301334</td>\n",
       "      <td>162.716215</td>\n",
       "      <td>63.378575</td>\n",
       "      <td>82.148326</td>\n",
       "      <td>23.848248</td>\n",
       "      <td>1.833260</td>\n",
       "      <td>1.457211</td>\n",
       "      <td>0.18352</td>\n",
       "      <td>1.159322</td>\n",
       "      <td>4.879966</td>\n",
       "      <td>...</td>\n",
       "      <td>17.677545</td>\n",
       "      <td>3838.661006</td>\n",
       "      <td>3085.455546</td>\n",
       "      <td>746.158149</td>\n",
       "      <td>3646.071568</td>\n",
       "      <td>118.626789</td>\n",
       "      <td>2.001743</td>\n",
       "      <td>1.358762</td>\n",
       "      <td>16.425643</td>\n",
       "      <td>108.082475</td>\n",
       "    </tr>\n",
       "    <tr>\n",
       "      <th>std</th>\n",
       "      <td>16.504178</td>\n",
       "      <td>9.040680</td>\n",
       "      <td>12.010718</td>\n",
       "      <td>10.020820</td>\n",
       "      <td>3.471034</td>\n",
       "      <td>0.858738</td>\n",
       "      <td>0.690103</td>\n",
       "      <td>0.38711</td>\n",
       "      <td>0.493428</td>\n",
       "      <td>3.027260</td>\n",
       "      <td>...</td>\n",
       "      <td>34.337997</td>\n",
       "      <td>3019.553459</td>\n",
       "      <td>1660.606289</td>\n",
       "      <td>1072.782731</td>\n",
       "      <td>5675.059438</td>\n",
       "      <td>467.535393</td>\n",
       "      <td>1.031521</td>\n",
       "      <td>0.836063</td>\n",
       "      <td>10.899158</td>\n",
       "      <td>121.766678</td>\n",
       "    </tr>\n",
       "    <tr>\n",
       "      <th>min</th>\n",
       "      <td>19.000000</td>\n",
       "      <td>116.100000</td>\n",
       "      <td>32.700000</td>\n",
       "      <td>52.300000</td>\n",
       "      <td>14.143848</td>\n",
       "      <td>1.000000</td>\n",
       "      <td>1.000000</td>\n",
       "      <td>0.00000</td>\n",
       "      <td>1.000000</td>\n",
       "      <td>0.000000</td>\n",
       "      <td>...</td>\n",
       "      <td>0.373358</td>\n",
       "      <td>1.579394</td>\n",
       "      <td>34.111520</td>\n",
       "      <td>0.000000</td>\n",
       "      <td>0.000000</td>\n",
       "      <td>0.000000</td>\n",
       "      <td>0.034350</td>\n",
       "      <td>0.009160</td>\n",
       "      <td>0.160300</td>\n",
       "      <td>0.000000</td>\n",
       "    </tr>\n",
       "    <tr>\n",
       "      <th>25%</th>\n",
       "      <td>37.000000</td>\n",
       "      <td>156.100000</td>\n",
       "      <td>54.700000</td>\n",
       "      <td>74.900000</td>\n",
       "      <td>21.421801</td>\n",
       "      <td>1.000000</td>\n",
       "      <td>1.000000</td>\n",
       "      <td>0.00000</td>\n",
       "      <td>1.000000</td>\n",
       "      <td>3.000000</td>\n",
       "      <td>...</td>\n",
       "      <td>10.671736</td>\n",
       "      <td>2151.312533</td>\n",
       "      <td>2002.155057</td>\n",
       "      <td>289.370595</td>\n",
       "      <td>1260.616621</td>\n",
       "      <td>18.744660</td>\n",
       "      <td>1.299657</td>\n",
       "      <td>0.803296</td>\n",
       "      <td>9.953781</td>\n",
       "      <td>31.327033</td>\n",
       "    </tr>\n",
       "    <tr>\n",
       "      <th>50%</th>\n",
       "      <td>51.000000</td>\n",
       "      <td>162.200000</td>\n",
       "      <td>61.800000</td>\n",
       "      <td>82.000000</td>\n",
       "      <td>23.557396</td>\n",
       "      <td>2.000000</td>\n",
       "      <td>1.000000</td>\n",
       "      <td>0.00000</td>\n",
       "      <td>1.000000</td>\n",
       "      <td>4.500000</td>\n",
       "      <td>...</td>\n",
       "      <td>15.062212</td>\n",
       "      <td>3283.257630</td>\n",
       "      <td>2785.972370</td>\n",
       "      <td>507.585092</td>\n",
       "      <td>2360.445394</td>\n",
       "      <td>59.378514</td>\n",
       "      <td>1.812120</td>\n",
       "      <td>1.206472</td>\n",
       "      <td>14.305364</td>\n",
       "      <td>67.184194</td>\n",
       "    </tr>\n",
       "    <tr>\n",
       "      <th>75%</th>\n",
       "      <td>64.000000</td>\n",
       "      <td>169.200000</td>\n",
       "      <td>70.500000</td>\n",
       "      <td>88.800000</td>\n",
       "      <td>25.922859</td>\n",
       "      <td>3.000000</td>\n",
       "      <td>2.000000</td>\n",
       "      <td>0.00000</td>\n",
       "      <td>1.000000</td>\n",
       "      <td>6.000000</td>\n",
       "      <td>...</td>\n",
       "      <td>21.264567</td>\n",
       "      <td>4862.328277</td>\n",
       "      <td>3808.741090</td>\n",
       "      <td>855.746199</td>\n",
       "      <td>4222.534155</td>\n",
       "      <td>121.212837</td>\n",
       "      <td>2.477915</td>\n",
       "      <td>1.734548</td>\n",
       "      <td>20.195689</td>\n",
       "      <td>143.410200</td>\n",
       "    </tr>\n",
       "    <tr>\n",
       "      <th>max</th>\n",
       "      <td>80.000000</td>\n",
       "      <td>192.500000</td>\n",
       "      <td>141.500000</td>\n",
       "      <td>130.300000</td>\n",
       "      <td>44.333804</td>\n",
       "      <td>3.000000</td>\n",
       "      <td>3.000000</td>\n",
       "      <td>1.00000</td>\n",
       "      <td>3.000000</td>\n",
       "      <td>40.000000</td>\n",
       "      <td>...</td>\n",
       "      <td>3458.914010</td>\n",
       "      <td>170391.541855</td>\n",
       "      <td>28939.568536</td>\n",
       "      <td>30630.998453</td>\n",
       "      <td>183405.713043</td>\n",
       "      <td>26908.522697</td>\n",
       "      <td>13.646730</td>\n",
       "      <td>26.588661</td>\n",
       "      <td>557.272446</td>\n",
       "      <td>2053.286068</td>\n",
       "    </tr>\n",
       "  </tbody>\n",
       "</table>\n",
       "<p>8 rows × 35 columns</p>\n",
       "</div>"
      ],
      "text/plain": [
       "                age         HE_ht         HE_wt         HE_wc        HE_BMI  \\\n",
       "count  11323.000000  11323.000000  11323.000000  11323.000000  11323.000000   \n",
       "mean      50.301334    162.716215     63.378575     82.148326     23.848248   \n",
       "std       16.504178      9.040680     12.010718     10.020820      3.471034   \n",
       "min       19.000000    116.100000     32.700000     52.300000     14.143848   \n",
       "25%       37.000000    156.100000     54.700000     74.900000     21.421801   \n",
       "50%       51.000000    162.200000     61.800000     82.000000     23.557396   \n",
       "75%       64.000000    169.200000     70.500000     88.800000     25.922859   \n",
       "max       80.000000    192.500000    141.500000    130.300000     44.333804   \n",
       "\n",
       "              HE_HP         HE_DM     HE_HCHOL        GS_use       N_WAT_C  \\\n",
       "count  11323.000000  11323.000000  11323.00000  11323.000000  11323.000000   \n",
       "mean       1.833260      1.457211      0.18352      1.159322      4.879966   \n",
       "std        0.858738      0.690103      0.38711      0.493428      3.027260   \n",
       "min        1.000000      1.000000      0.00000      1.000000      0.000000   \n",
       "25%        1.000000      1.000000      0.00000      1.000000      3.000000   \n",
       "50%        2.000000      1.000000      0.00000      1.000000      4.500000   \n",
       "75%        3.000000      2.000000      0.00000      1.000000      6.000000   \n",
       "max        3.000000      3.000000      1.00000      3.000000     40.000000   \n",
       "\n",
       "           ...               N_FE           N_NA           N_K          N_VA  \\\n",
       "count      ...       11323.000000   11323.000000  11323.000000  11323.000000   \n",
       "mean       ...          17.677545    3838.661006   3085.455546    746.158149   \n",
       "std        ...          34.337997    3019.553459   1660.606289   1072.782731   \n",
       "min        ...           0.373358       1.579394     34.111520      0.000000   \n",
       "25%        ...          10.671736    2151.312533   2002.155057    289.370595   \n",
       "50%        ...          15.062212    3283.257630   2785.972370    507.585092   \n",
       "75%        ...          21.264567    4862.328277   3808.741090    855.746199   \n",
       "max        ...        3458.914010  170391.541855  28939.568536  30630.998453   \n",
       "\n",
       "             N_CAROT       N_RETIN          N_B1          N_B2        N_NIAC  \\\n",
       "count   11323.000000  11323.000000  11323.000000  11323.000000  11323.000000   \n",
       "mean     3646.071568    118.626789      2.001743      1.358762     16.425643   \n",
       "std      5675.059438    467.535393      1.031521      0.836063     10.899158   \n",
       "min         0.000000      0.000000      0.034350      0.009160      0.160300   \n",
       "25%      1260.616621     18.744660      1.299657      0.803296      9.953781   \n",
       "50%      2360.445394     59.378514      1.812120      1.206472     14.305364   \n",
       "75%      4222.534155    121.212837      2.477915      1.734548     20.195689   \n",
       "max    183405.713043  26908.522697     13.646730     26.588661    557.272446   \n",
       "\n",
       "             N_VITC  \n",
       "count  11323.000000  \n",
       "mean     108.082475  \n",
       "std      121.766678  \n",
       "min        0.000000  \n",
       "25%       31.327033  \n",
       "50%       67.184194  \n",
       "75%      143.410200  \n",
       "max     2053.286068  \n",
       "\n",
       "[8 rows x 35 columns]"
      ]
     },
     "execution_count": 13,
     "metadata": {},
     "output_type": "execute_result"
    }
   ],
   "source": [
    "features_dt[num_features_nm_list].describe()"
   ]
  },
  {
   "cell_type": "markdown",
   "metadata": {},
   "source": [
    "### 자료 탐색"
   ]
  },
  {
   "cell_type": "code",
   "execution_count": 14,
   "metadata": {},
   "outputs": [
    {
     "data": {
      "text/plain": [
       "['sex',\n",
       " 'ho_incm',\n",
       " 'edu',\n",
       " 'occp',\n",
       " 'marri_1',\n",
       " 'sm_presnt',\n",
       " 'dr_high',\n",
       " 'pa_aerobic',\n",
       " 'pa_walk',\n",
       " 'pa_muscle']"
      ]
     },
     "execution_count": 14,
     "metadata": {},
     "output_type": "execute_result"
    }
   ],
   "source": [
    "cat_features_nm_list"
   ]
  },
  {
   "cell_type": "code",
   "execution_count": 15,
   "metadata": {
    "colab": {
     "base_uri": "https://localhost:8080/",
     "height": 726
    },
    "colab_type": "code",
    "id": "vsvOepjGzouT",
    "outputId": "d66c9a9a-92fe-4d02-f088-8cfcfed8393d",
    "scrolled": true
   },
   "outputs": [
    {
     "name": "stdout",
     "output_type": "stream",
     "text": [
      "2.0    57.37\n",
      "1.0    42.63\n",
      "Name: sex, dtype: float64\n",
      "4.0    30.08\n",
      "3.0    28.39\n",
      "2.0    24.68\n",
      "1.0    16.85\n",
      "Name: ho_incm, dtype: float64\n",
      "4.0    35.80\n",
      "3.0    33.64\n",
      "1.0    20.26\n",
      "2.0    10.30\n",
      "Name: edu, dtype: float64\n",
      "7.0    40.07\n",
      "1.0    14.02\n",
      "3.0    12.60\n",
      "2.0    10.27\n",
      "5.0     9.56\n",
      "6.0     8.50\n",
      "4.0     4.98\n",
      "Name: occp, dtype: float64\n",
      "1.0    83.88\n",
      "2.0    16.12\n",
      "Name: marri_1, dtype: float64\n",
      "0.0    83.26\n",
      "1.0    16.74\n",
      "Name: sm_presnt, dtype: float64\n",
      "0.0    89.98\n",
      "1.0    10.02\n",
      "Name: dr_high, dtype: float64\n",
      "0.0    51.26\n",
      "1.0    48.74\n",
      "Name: pa_aerobic, dtype: float64\n",
      "0.0    60.26\n",
      "1.0    39.74\n",
      "Name: pa_walk, dtype: float64\n",
      "0.0    79.87\n",
      "1.0    20.13\n",
      "Name: pa_muscle, dtype: float64\n"
     ]
    }
   ],
   "source": [
    "# 카테고리 피쳐들의 비율 확인\n",
    "for i in cat_features_nm_list:\n",
    "  print(round(dt[i].value_counts(normalize=True)*100,2))"
   ]
  },
  {
   "cell_type": "code",
   "execution_count": 16,
   "metadata": {
    "scrolled": true
   },
   "outputs": [],
   "source": [
    "# 시각화 하여 확인한다.\n",
    "import matplotlib.pyplot as plt\n",
    "\n",
    "fig,  axs = plt.subplots(nrows=10, figsize=(20,30))\n",
    "n = 0\n",
    "for i in cat_features_nm_list:\n",
    "    cnt_dt = pd.DataFrame(dt[i].value_counts(normalize=True))\n",
    "    cnt_dt.plot.bar(rot=0, ax=axs[n])\n",
    "    plt.xticks(rotation=45)\n",
    "    n += 1"
   ]
  },
  {
   "cell_type": "code",
   "execution_count": 17,
   "metadata": {
    "scrolled": true
   },
   "outputs": [
    {
     "data": {
      "image/png": "[encoded data removed]",
      "text/plain": [
       "<Figure size 2160x7200 with 35 Axes>"
      ]
     },
     "metadata": {},
     "output_type": "display_data"
    }
   ],
   "source": [
    "import seaborn as sns\n",
    "fig,  axs = plt.subplots(7, 5,figsize=(30,100))\n",
    "i = 0\n",
    "col_nm = list(dt.columns)\n",
    "for r in range(0, 7):\n",
    "    for c in range(0,5):\n",
    "        sns.boxplot(y=dt[col_nm[i]], ax=axs[r, c])\n",
    "        i += 1\n",
    "        "
   ]
  },
  {
   "cell_type": "code",
   "execution_count": 18,
   "metadata": {
    "colab": {},
    "colab_type": "code",
    "id": "iosPOQuNZydl"
   },
   "outputs": [],
   "source": [
    "# one-hot-encoding \n",
    "features_dt_dm =  pd.get_dummies(features_dt)"
   ]
  },
  {
   "cell_type": "code",
   "execution_count": 19,
   "metadata": {
    "colab": {
     "base_uri": "https://localhost:8080/",
     "height": 247
    },
    "colab_type": "code",
    "id": "I69D32WWyOe1",
    "outputId": "6010eebf-6a70-4bca-ca58-e17aa8d3c210"
   },
   "outputs": [
    {
     "data": {
      "text/html": [
       "<div>\n",
       "<style scoped>\n",
       "    .dataframe tbody tr th:only-of-type {\n",
       "        vertical-align: middle;\n",
       "    }\n",
       "\n",
       "    .dataframe tbody tr th {\n",
       "        vertical-align: top;\n",
       "    }\n",
       "\n",
       "    .dataframe thead th {\n",
       "        text-align: right;\n",
       "    }\n",
       "</style>\n",
       "<table border=\"1\" class=\"dataframe\">\n",
       "  <thead>\n",
       "    <tr style=\"text-align: right;\">\n",
       "      <th></th>\n",
       "      <th>age</th>\n",
       "      <th>HE_ht</th>\n",
       "      <th>HE_wt</th>\n",
       "      <th>HE_wc</th>\n",
       "      <th>HE_BMI</th>\n",
       "      <th>HE_HP</th>\n",
       "      <th>HE_DM</th>\n",
       "      <th>HE_HCHOL</th>\n",
       "      <th>GS_use</th>\n",
       "      <th>N_WAT_C</th>\n",
       "      <th>...</th>\n",
       "      <th>sm_presnt_0.0</th>\n",
       "      <th>sm_presnt_1.0</th>\n",
       "      <th>dr_high_0.0</th>\n",
       "      <th>dr_high_1.0</th>\n",
       "      <th>pa_aerobic_0.0</th>\n",
       "      <th>pa_aerobic_1.0</th>\n",
       "      <th>pa_walk_0.0</th>\n",
       "      <th>pa_walk_1.0</th>\n",
       "      <th>pa_muscle_0.0</th>\n",
       "      <th>pa_muscle_1.0</th>\n",
       "    </tr>\n",
       "  </thead>\n",
       "  <tbody>\n",
       "    <tr>\n",
       "      <th>0</th>\n",
       "      <td>30</td>\n",
       "      <td>153.4</td>\n",
       "      <td>68.1</td>\n",
       "      <td>81.9</td>\n",
       "      <td>28.939858</td>\n",
       "      <td>1.0</td>\n",
       "      <td>1.0</td>\n",
       "      <td>0.0</td>\n",
       "      <td>1.0</td>\n",
       "      <td>3.5</td>\n",
       "      <td>...</td>\n",
       "      <td>1</td>\n",
       "      <td>0</td>\n",
       "      <td>1</td>\n",
       "      <td>0</td>\n",
       "      <td>0</td>\n",
       "      <td>1</td>\n",
       "      <td>1</td>\n",
       "      <td>0</td>\n",
       "      <td>0</td>\n",
       "      <td>1</td>\n",
       "    </tr>\n",
       "    <tr>\n",
       "      <th>2</th>\n",
       "      <td>29</td>\n",
       "      <td>171.2</td>\n",
       "      <td>84.0</td>\n",
       "      <td>85.5</td>\n",
       "      <td>28.659708</td>\n",
       "      <td>2.0</td>\n",
       "      <td>1.0</td>\n",
       "      <td>0.0</td>\n",
       "      <td>1.0</td>\n",
       "      <td>4.0</td>\n",
       "      <td>...</td>\n",
       "      <td>1</td>\n",
       "      <td>0</td>\n",
       "      <td>1</td>\n",
       "      <td>0</td>\n",
       "      <td>0</td>\n",
       "      <td>1</td>\n",
       "      <td>0</td>\n",
       "      <td>1</td>\n",
       "      <td>0</td>\n",
       "      <td>1</td>\n",
       "    </tr>\n",
       "    <tr>\n",
       "      <th>3</th>\n",
       "      <td>65</td>\n",
       "      <td>160.8</td>\n",
       "      <td>52.2</td>\n",
       "      <td>71.0</td>\n",
       "      <td>20.188238</td>\n",
       "      <td>3.0</td>\n",
       "      <td>3.0</td>\n",
       "      <td>0.0</td>\n",
       "      <td>1.0</td>\n",
       "      <td>3.0</td>\n",
       "      <td>...</td>\n",
       "      <td>0</td>\n",
       "      <td>1</td>\n",
       "      <td>1</td>\n",
       "      <td>0</td>\n",
       "      <td>0</td>\n",
       "      <td>1</td>\n",
       "      <td>0</td>\n",
       "      <td>1</td>\n",
       "      <td>1</td>\n",
       "      <td>0</td>\n",
       "    </tr>\n",
       "    <tr>\n",
       "      <th>4</th>\n",
       "      <td>66</td>\n",
       "      <td>168.8</td>\n",
       "      <td>68.8</td>\n",
       "      <td>84.0</td>\n",
       "      <td>24.145909</td>\n",
       "      <td>2.0</td>\n",
       "      <td>1.0</td>\n",
       "      <td>0.0</td>\n",
       "      <td>1.0</td>\n",
       "      <td>5.0</td>\n",
       "      <td>...</td>\n",
       "      <td>1</td>\n",
       "      <td>0</td>\n",
       "      <td>1</td>\n",
       "      <td>0</td>\n",
       "      <td>0</td>\n",
       "      <td>1</td>\n",
       "      <td>1</td>\n",
       "      <td>0</td>\n",
       "      <td>1</td>\n",
       "      <td>0</td>\n",
       "    </tr>\n",
       "    <tr>\n",
       "      <th>6</th>\n",
       "      <td>41</td>\n",
       "      <td>162.2</td>\n",
       "      <td>80.5</td>\n",
       "      <td>98.4</td>\n",
       "      <td>30.598080</td>\n",
       "      <td>2.0</td>\n",
       "      <td>1.0</td>\n",
       "      <td>0.0</td>\n",
       "      <td>1.0</td>\n",
       "      <td>15.0</td>\n",
       "      <td>...</td>\n",
       "      <td>1</td>\n",
       "      <td>0</td>\n",
       "      <td>0</td>\n",
       "      <td>1</td>\n",
       "      <td>0</td>\n",
       "      <td>1</td>\n",
       "      <td>0</td>\n",
       "      <td>1</td>\n",
       "      <td>1</td>\n",
       "      <td>0</td>\n",
       "    </tr>\n",
       "  </tbody>\n",
       "</table>\n",
       "<p>5 rows × 64 columns</p>\n",
       "</div>"
      ],
      "text/plain": [
       "   age  HE_ht  HE_wt  HE_wc     HE_BMI  HE_HP  HE_DM  HE_HCHOL  GS_use  \\\n",
       "0   30  153.4   68.1   81.9  28.939858    1.0    1.0       0.0     1.0   \n",
       "2   29  171.2   84.0   85.5  28.659708    2.0    1.0       0.0     1.0   \n",
       "3   65  160.8   52.2   71.0  20.188238    3.0    3.0       0.0     1.0   \n",
       "4   66  168.8   68.8   84.0  24.145909    2.0    1.0       0.0     1.0   \n",
       "6   41  162.2   80.5   98.4  30.598080    2.0    1.0       0.0     1.0   \n",
       "\n",
       "   N_WAT_C      ...        sm_presnt_0.0  sm_presnt_1.0  dr_high_0.0  \\\n",
       "0      3.5      ...                    1              0            1   \n",
       "2      4.0      ...                    1              0            1   \n",
       "3      3.0      ...                    0              1            1   \n",
       "4      5.0      ...                    1              0            1   \n",
       "6     15.0      ...                    1              0            0   \n",
       "\n",
       "   dr_high_1.0  pa_aerobic_0.0  pa_aerobic_1.0  pa_walk_0.0  pa_walk_1.0  \\\n",
       "0            0               0               1            1            0   \n",
       "2            0               0               1            0            1   \n",
       "3            0               0               1            0            1   \n",
       "4            0               0               1            1            0   \n",
       "6            1               0               1            0            1   \n",
       "\n",
       "   pa_muscle_0.0  pa_muscle_1.0  \n",
       "0              0              1  \n",
       "2              0              1  \n",
       "3              1              0  \n",
       "4              1              0  \n",
       "6              1              0  \n",
       "\n",
       "[5 rows x 64 columns]"
      ]
     },
     "execution_count": 19,
     "metadata": {},
     "output_type": "execute_result"
    }
   ],
   "source": [
    "features_dt_dm.head()"
   ]
  },
  {
   "cell_type": "code",
   "execution_count": 20,
   "metadata": {
    "colab": {},
    "colab_type": "code",
    "id": "spPryVr6Zydq"
   },
   "outputs": [],
   "source": [
    "# Train데이터와 Test를 나눈다.\n",
    "import numpy as np\n",
    "from sklearn.model_selection import train_test_split\n",
    "X_train, X_test, y_train, y_test = train_test_split(features_dt_dm, target_dt, random_state=0)"
   ]
  },
  {
   "cell_type": "code",
   "execution_count": 21,
   "metadata": {
    "colab": {
     "base_uri": "https://localhost:8080/",
     "height": 272
    },
    "colab_type": "code",
    "id": "0qRTr3BkmpGN",
    "outputId": "bcdb35ed-4d7a-4ce8-f757-aea8d7b1b8ee"
   },
   "outputs": [
    {
     "name": "stdout",
     "output_type": "stream",
     "text": [
      "(8492, 64)\n",
      "(8492,)\n",
      "(2831, 64)\n",
      "(2831,)\n"
     ]
    }
   ],
   "source": [
    "print(X_train.shape)\n",
    "print(y_train.shape)\n",
    "print(X_test.shape)\n",
    "print(y_test.shape)"
   ]
  },
  {
   "cell_type": "code",
   "execution_count": 22,
   "metadata": {
    "colab": {
     "base_uri": "https://localhost:8080/",
     "height": 35
    },
    "colab_type": "code",
    "id": "EYvbUJZ9zERM",
    "outputId": "bb17d7b8-4a24-4999-e2c3-f5109720edef"
   },
   "outputs": [
    {
     "data": {
      "text/plain": [
       "(8492,)"
      ]
     },
     "execution_count": 22,
     "metadata": {},
     "output_type": "execute_result"
    }
   ],
   "source": [
    "y_train.shape"
   ]
  },
  {
   "cell_type": "code",
   "execution_count": 23,
   "metadata": {
    "colab": {
     "base_uri": "https://localhost:8080/",
     "height": 347
    },
    "colab_type": "code",
    "id": "IbZb_So-Zydv",
    "outputId": "ad27dbe1-cb70-48d8-e773-e39a614e304a",
    "scrolled": true
   },
   "outputs": [
    {
     "data": {
      "image/png": "[encoded data removed]",
      "text/plain": [
       "<Figure size 432x288 with 1 Axes>"
      ]
     },
     "metadata": {},
     "output_type": "display_data"
    }
   ],
   "source": [
    "# train set 의 target 분포\n",
    "import matplotlib.pyplot as plt\n",
    "y_train.hist(bins=50)\n",
    "plt.show()"
   ]
  },
  {
   "cell_type": "code",
   "execution_count": 24,
   "metadata": {},
   "outputs": [],
   "source": [
    "from sklearn.preprocessing import StandardScaler\n",
    "X_scaler = StandardScaler()\n",
    "X_train = X_scaler.fit_transform(X_train)\n",
    "X_test = X_scaler.transform(X_test)\n",
    "\n",
    "y_scaler = StandardScaler()\n",
    "y_train = y_scaler.fit_transform(y_train[:, None])[:, 0]\n",
    "y_test = y_scaler.transform(y_test[:, None])[:, 0]"
   ]
  },
  {
   "cell_type": "code",
   "execution_count": null,
   "metadata": {},
   "outputs": [],
   "source": []
  },
  {
   "cell_type": "markdown",
   "metadata": {},
   "source": [
    "# Model description\n",
    "---\n",
    "\n",
    "###  Automatic Relevance Determination  regression\n",
    "    very similar to Bayesian Ridge Regression, but can lead to sparser weights w. ARDRegression poses a different prior over w, by dropping the assumption of the Gaussian being spherical."
   ]
  },
  {
   "cell_type": "code",
   "execution_count": 25,
   "metadata": {},
   "outputs": [
    {
     "name": "stdout",
     "output_type": "stream",
     "text": [
      "Fitting 10 folds for each of 1 candidates, totalling 10 fits\n"
     ]
    },
    {
     "name": "stderr",
     "output_type": "stream",
     "text": [
      "[Parallel(n_jobs=1)]: Done  10 out of  10 | elapsed: 155.2min finished\n"
     ]
    }
   ],
   "source": [
    "from sklearn.linear_model import Ridge\n",
    "from sklearn.linear_model import Lasso\n",
    "from sklearn.linear_model import BayesianRidge\n",
    "from sklearn.linear_model import ARDRegression\n",
    "\n",
    "from sklearn.model_selection import GridSearchCV \n",
    "from sklearn.model_selection import KFold\n",
    "from sklearn.preprocessing import StandardScaler\n",
    "from sklearn.pipeline import Pipeline\n",
    "\n",
    "ridge_alphas = np.arange(0.001, 0.01, 0.001)\n",
    "lasso_alphas = np.arange(0.001, 0.01, 0.001)\n",
    "bridg_alphas1 = [0.01]\n",
    "bridg_alphas2 = [0.01]\n",
    "\n",
    "param_grid = [\n",
    "              {'regressor':[ARDRegression()],\n",
    "               'regressor__alpha_1':bridg_alphas1,\n",
    "               'regressor__alpha_2':bridg_alphas2}\n",
    "             ]\n",
    "KFold = KFold(n_splits=10)\n",
    "                 \n",
    "pipe = Pipeline([('regressor', ARDRegression())])\n",
    "\n",
    "## GridSeach : 회귀의 평가지표는 R^2이다. \n",
    "grid_ridge = GridSearchCV(pipe, param_grid=param_grid, scoring='r2', cv=KFold, verbose=1, return_train_score=True)\n",
    "\n",
    "grid_result = grid_ridge.fit(X_train, y_train)"
   ]
  },
  {
   "cell_type": "code",
   "execution_count": 26,
   "metadata": {},
   "outputs": [
    {
     "name": "stdout",
     "output_type": "stream",
     "text": [
      "Grid search를 이용하여 구한 최적의 파라미터는 : {'regressor': ARDRegression(alpha_1=0.01, alpha_2=0.01, compute_score=False, copy_X=True,\n",
      "       fit_intercept=True, lambda_1=1e-06, lambda_2=1e-06, n_iter=300,\n",
      "       normalize=False, threshold_lambda=10000.0, tol=0.001, verbose=False), 'regressor__alpha_1': 0.01, 'regressor__alpha_2': 0.01}\n"
     ]
    }
   ],
   "source": [
    "print(\"Grid search를 이용하여 구한 최적의 파라미터는 : {}\".format(grid_result.best_params_))"
   ]
  },
  {
   "cell_type": "code",
   "execution_count": 27,
   "metadata": {},
   "outputs": [
    {
     "name": "stdout",
     "output_type": "stream",
     "text": [
      "Grid search에 대한 R^2 값: 0.756\n"
     ]
    }
   ],
   "source": [
    "print(\"Grid search에 대한 R^2 값: {:.3f}\".format(grid_result.best_score_))"
   ]
  },
  {
   "cell_type": "code",
   "execution_count": 28,
   "metadata": {},
   "outputs": [
    {
     "name": "stdout",
     "output_type": "stream",
     "text": [
      "테스트 대한 R^2값: 0.743\n"
     ]
    }
   ],
   "source": [
    "print(\"테스트 대한 R^2값: {:.3f}\".format(grid_result.score(X_test, y_test)))"
   ]
  },
  {
   "cell_type": "code",
   "execution_count": 29,
   "metadata": {},
   "outputs": [
    {
     "name": "stdout",
     "output_type": "stream",
     "text": [
      "MSE: 0.25432\n"
     ]
    }
   ],
   "source": [
    "# MSE 계산\n",
    "from sklearn.metrics import mean_squared_error\n",
    "y_pred = grid_result.predict(X_test)\n",
    "mse = mean_squared_error(y_test, y_pred)\n",
    "print(\"MSE: {:.5f}\".format(mse))"
   ]
  },
  {
   "cell_type": "code",
   "execution_count": 30,
   "metadata": {},
   "outputs": [
    {
     "name": "stderr",
     "output_type": "stream",
     "text": [
      "C:\\ProgramData\\Anaconda3\\lib\\site-packages\\matplotlib\\axes\\_axes.py:6462: UserWarning: The 'normed' kwarg is deprecated, and has been replaced by the 'density' kwarg.\n",
      "  warnings.warn(\"The 'normed' kwarg is deprecated, and has been \"\n"
     ]
    },
    {
     "data": {
      "text/plain": [
       "<matplotlib.axes._subplots.AxesSubplot at 0x1b56054ac88>"
      ]
     },
     "execution_count": 30,
     "metadata": {},
     "output_type": "execute_result"
    },
    {
     "data": {
      "image/png": "[encoded data removed]",
      "text/plain": [
       "<Figure size 1008x360 with 2 Axes>"
      ]
     },
     "metadata": {},
     "output_type": "display_data"
    }
   ],
   "source": [
    "##예측값과 실제값 비교\n",
    "import seaborn as sns\n",
    "y_pred = grid_result.predict(X_test)\n",
    "fig,(ax1, ax2) = plt.subplots(ncols=2)\n",
    "fig.set_size_inches(14,5)\n",
    "sns.distplot(y_test, ax=ax1, bins=50)\n",
    "fig.suptitle(\"Test data set vs Prediction value\", y=0.95);\n",
    "sns.distplot(y_pred, ax=ax2, bins=50)"
   ]
  },
  {
   "cell_type": "code",
   "execution_count": 31,
   "metadata": {},
   "outputs": [
    {
     "name": "stderr",
     "output_type": "stream",
     "text": [
      "C:\\ProgramData\\Anaconda3\\lib\\site-packages\\matplotlib\\axes\\_axes.py:6462: UserWarning: The 'normed' kwarg is deprecated, and has been replaced by the 'density' kwarg.\n",
      "  warnings.warn(\"The 'normed' kwarg is deprecated, and has been \"\n"
     ]
    },
    {
     "data": {
      "text/plain": [
       "<seaborn.axisgrid.JointGrid at 0x1b55eee6d68>"
      ]
     },
     "execution_count": 31,
     "metadata": {},
     "output_type": "execute_result"
    },
    {
     "data": {
      "image/png": "[encoded data removed]",
      "text/plain": [
       "<Figure size 432x432 with 3 Axes>"
      ]
     },
     "metadata": {},
     "output_type": "display_data"
    }
   ],
   "source": [
    "sns.jointplot(y_test, y_pred)"
   ]
  },
  {
   "cell_type": "code",
   "execution_count": null,
   "metadata": {},
   "outputs": [],
   "source": []
  }
 ],
 "metadata": {
  "colab": {
   "collapsed_sections": [],
   "name": "Seminar(181126)_Regression.ipynb",
   "provenance": [],
   "version": "0.3.2"
  },
  "kernelspec": {
   "display_name": "Python 3",
   "language": "python",
   "name": "python3"
  },
  "language_info": {
   "codemirror_mode": {
    "name": "ipython",
    "version": 3
   },
   "file_extension": ".py",
   "mimetype": "text/x-python",
   "name": "python",
   "nbconvert_exporter": "python",
   "pygments_lexer": "ipython3",
   "version": "3.6.4"
  }
 },
 "nbformat": 4,
 "nbformat_minor": 1
}
